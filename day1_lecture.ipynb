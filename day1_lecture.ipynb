{
  "cells": [
    {
      "cell_type": "markdown",
      "metadata": {
        "id": "view-in-github",
        "colab_type": "text"
      },
      "source": [
        "<a href=\"https://colab.research.google.com/github/kahoitoh/kahoitoh.github.io/blob/master/day1_lecture.ipynb\" target=\"_parent\"><img src=\"https://colab.research.google.com/assets/colab-badge.svg\" alt=\"Open In Colab\"/></a>"
      ]
    },
    {
      "cell_type": "markdown",
      "metadata": {
        "tags": [],
        "id": "WTbo4KAxcota"
      },
      "source": [
        "# Introduction to Python for Data Science - Day 1\n",
        "\n",
        "Welcome to the course. These notebooks will guide through the two days of the course.\n",
        "They are designed for you to repreduce and play, so feel free to modify the content.\n",
        "\n",
        "In particular, the course is split into \"theory\" and \"lab\" sessions.\n",
        "- The theory sessions are in the morning and show hands-on how the main concept works\n",
        "- The lab session are afternoon exercises designed to understand and try the concepts learn in the morning.\n",
        "\n",
        "The schedule for the first day is the following\n",
        "\n",
        " | Time | Topic |\n",
        " --- | --- |\n",
        "9.00-9.30\t| Part 1: Basic introduction to python, variables and operations |\n",
        "9.30 - 10.00| Tutorial: Part 1, help with packages and configurations  |\n",
        "10.00-10.30\t| Part 2: Control statements |\n",
        "10.30-11.00\t| Tutorial: Part 2, control statements |\n",
        "11.00-12.00\t| Part 3: Collections |\n",
        "12.00-13.00\t| Lunch break |\n",
        "13.00-14.00\t| Tutorial: Part 3 |\n",
        "14.00-14.15\t| Part 4: Functions, error handling |\n",
        "14.15-15.00\t| Tutorial: Part 4 |\n",
        "\n",
        "In the first day we see the basics of Python language. In particular, we will look into the main concepts and how to run code.\n",
        "Please create an account in Google to access colab or, if you want, use Jupyter notebook in your laptop.\n",
        "\n",
        "**Acknowledgments**\n",
        "\n",
        "The material in this day is adapted from Chapter 2 and Chapter 3 in the book\n",
        "> [Python for Data Analysis, 3rd Edition](https://wesmckinney.com/book/) by Wes McKinney, published by O'Reilly Media.\n",
        "\n",
        "The original jupyter notebooks can be found at the [book's Github repository](https://github.com/wesm/pydata-book/tree/3rd-edition).\n"
      ]
    },
    {
      "cell_type": "markdown",
      "metadata": {
        "tags": [],
        "id": "YCkHV2Pscotb"
      },
      "source": [
        "## Python basics"
      ]
    },
    {
      "cell_type": "markdown",
      "metadata": {
        "tags": [],
        "id": "V8DLj56ncotb"
      },
      "source": [
        "### Variables\n",
        "\n",
        "Let us just play a bit with python. _What does the code below do?_"
      ]
    },
    {
      "cell_type": "code",
      "execution_count": null,
      "metadata": {
        "id": "fuPDZVWycotb"
      },
      "outputs": [],
      "source": [
        "# This is a comment, it is not executed"
      ]
    },
    {
      "cell_type": "markdown",
      "metadata": {
        "id": "M3DqGKhHcotb"
      },
      "source": [
        "Note the Python shows the result of the execution of the last line."
      ]
    },
    {
      "cell_type": "code",
      "execution_count": null,
      "metadata": {
        "id": "pPG705BRcotb"
      },
      "outputs": [],
      "source": [
        "import numpy as np\n",
        "data = [np.random.standard_normal() for i in range(7)]\n",
        "data"
      ]
    },
    {
      "cell_type": "markdown",
      "metadata": {
        "id": "hoMOpUh7cotc"
      },
      "source": [
        "Another way to see the result or the value contained in a variable is to use the function ```print```"
      ]
    },
    {
      "cell_type": "code",
      "execution_count": null,
      "metadata": {
        "colab": {
          "base_uri": "https://localhost:8080/"
        },
        "id": "19ygSaCHcotc",
        "outputId": "888507f8-abbb-4c00-8ce7-6d6ec51406c2"
      },
      "outputs": [
        {
          "output_type": "stream",
          "name": "stdout",
          "text": [
            "[-0.2736866540806868, -0.9404030214951349, -0.13670384976619748, 1.7784145131826548, 0.04848643151220999, 1.519182091557888, -1.230281087939594]\n"
          ]
        }
      ],
      "source": [
        "print(data)"
      ]
    },
    {
      "cell_type": "markdown",
      "metadata": {
        "id": "NlBGENfOcotc"
      },
      "source": [
        "In python, variables that are not int, float, strings, are assigned by _reference_, this means that the `=` does not copy the variable, but creates an alias for the same object."
      ]
    },
    {
      "cell_type": "code",
      "execution_count": null,
      "metadata": {
        "id": "36dnYMgXcotc"
      },
      "outputs": [],
      "source": [
        "a = [1, 2, 3] # This is a list"
      ]
    },
    {
      "cell_type": "code",
      "execution_count": null,
      "metadata": {
        "colab": {
          "base_uri": "https://localhost:8080/"
        },
        "id": "AZk4MdcVcotc",
        "outputId": "0206de01-77f7-4c08-f44d-fbeacbd33b31"
      },
      "outputs": [
        {
          "output_type": "execute_result",
          "data": {
            "text/plain": [
              "[1, 2, 3]"
            ]
          },
          "metadata": {},
          "execution_count": 5
        }
      ],
      "source": [
        "b = a # New variable b gets referenced to a\n",
        "b"
      ]
    },
    {
      "cell_type": "code",
      "execution_count": null,
      "metadata": {
        "colab": {
          "base_uri": "https://localhost:8080/"
        },
        "id": "CtJ_MrMdcotc",
        "outputId": "ac7c5112-1a0e-4ac7-841d-1c9bb30ec28c"
      },
      "outputs": [
        {
          "output_type": "execute_result",
          "data": {
            "text/plain": [
              "[1, 2, 3, 4]"
            ]
          },
          "metadata": {},
          "execution_count": 6
        }
      ],
      "source": [
        "a.append(4)\n",
        "b # b is also modified as it refers to the same object a"
      ]
    },
    {
      "cell_type": "markdown",
      "metadata": {
        "id": "hZjjciYgcotc"
      },
      "source": [
        "If a variable is modified in a function, the value changes as well. We will see what a function is soon!"
      ]
    },
    {
      "cell_type": "code",
      "execution_count": null,
      "metadata": {
        "id": "9x8G9m1icotc"
      },
      "outputs": [],
      "source": [
        "def append_element(some_list, element):\n",
        "    some_list.append(element)"
      ]
    },
    {
      "cell_type": "code",
      "execution_count": null,
      "metadata": {
        "colab": {
          "base_uri": "https://localhost:8080/"
        },
        "id": "JspAQwRdcotc",
        "outputId": "99d19170-0975-444d-d3dd-ca0eb5a1d93b"
      },
      "outputs": [
        {
          "output_type": "execute_result",
          "data": {
            "text/plain": [
              "[1, 2, 3, 4]"
            ]
          },
          "metadata": {},
          "execution_count": 8
        }
      ],
      "source": [
        "data = [1, 2, 3]\n",
        "append_element(data, 4)\n",
        "data"
      ]
    },
    {
      "cell_type": "markdown",
      "metadata": {
        "id": "toO9pQFTcotc"
      },
      "source": [
        "In order to know the type of a variable, use the function ```type```. What is the result of the expression below?"
      ]
    },
    {
      "cell_type": "code",
      "execution_count": null,
      "metadata": {
        "tags": [],
        "colab": {
          "base_uri": "https://localhost:8080/"
        },
        "id": "cMgIHrVrcotc",
        "outputId": "164677a1-b03a-4f6c-a057-3f3d1186d822"
      },
      "outputs": [
        {
          "output_type": "stream",
          "name": "stdout",
          "text": [
            "<class 'int'>\n",
            "<class 'str'>\n"
          ]
        }
      ],
      "source": [
        "a = 5\n",
        "print(type(a))\n",
        "a = \"foo\"\n",
        "print(type(a))"
      ]
    },
    {
      "cell_type": "markdown",
      "metadata": {
        "id": "WOCtqCmrcotc"
      },
      "source": [
        "Is the expression below correct?"
      ]
    },
    {
      "cell_type": "code",
      "execution_count": null,
      "metadata": {
        "colab": {
          "base_uri": "https://localhost:8080/",
          "height": 141
        },
        "id": "dwgvtPCTcotd",
        "outputId": "34b45f7a-86c5-4cc0-9b17-84e2779bc247"
      },
      "outputs": [
        {
          "output_type": "error",
          "ename": "TypeError",
          "evalue": "can only concatenate str (not \"int\") to str",
          "traceback": [
            "\u001b[0;31m---------------------------------------------------------------------------\u001b[0m",
            "\u001b[0;31mTypeError\u001b[0m                                 Traceback (most recent call last)",
            "\u001b[0;32m<ipython-input-10-7fe5aa79f268>\u001b[0m in \u001b[0;36m<cell line: 1>\u001b[0;34m()\u001b[0m\n\u001b[0;32m----> 1\u001b[0;31m \u001b[0;34m\"5\"\u001b[0m \u001b[0;34m+\u001b[0m \u001b[0;36m5\u001b[0m\u001b[0;34m\u001b[0m\u001b[0;34m\u001b[0m\u001b[0m\n\u001b[0m",
            "\u001b[0;31mTypeError\u001b[0m: can only concatenate str (not \"int\") to str"
          ]
        }
      ],
      "source": [
        "\"5\" + 5"
      ]
    },
    {
      "cell_type": "code",
      "execution_count": null,
      "metadata": {
        "colab": {
          "base_uri": "https://localhost:8080/"
        },
        "id": "VDCJtbTucotd",
        "outputId": "94afe98f-31cc-4751-ac61-c63a0a08b5a2"
      },
      "outputs": [
        {
          "output_type": "stream",
          "name": "stdout",
          "text": [
            "a is <class 'float'>, b is <class 'int'>\n"
          ]
        },
        {
          "output_type": "execute_result",
          "data": {
            "text/plain": [
              "2.25"
            ]
          },
          "metadata": {},
          "execution_count": 40
        }
      ],
      "source": [
        "a = 4.5\n",
        "b = 2\n",
        "# String formatting, to be visited later\n",
        "print(f\"a is {type(a)}, b is {type(b)}\")\n",
        "a / b"
      ]
    },
    {
      "cell_type": "markdown",
      "metadata": {
        "id": "pceQV55kcotd"
      },
      "source": [
        "```isinstance``` can tell you whether a variable has a specific type."
      ]
    },
    {
      "cell_type": "code",
      "execution_count": null,
      "metadata": {
        "colab": {
          "base_uri": "https://localhost:8080/"
        },
        "id": "SlGDj1S-cotd",
        "outputId": "79541999-0973-4012-f76e-d66176abd543"
      },
      "outputs": [
        {
          "output_type": "execute_result",
          "data": {
            "text/plain": [
              "True"
            ]
          },
          "metadata": {},
          "execution_count": 41
        }
      ],
      "source": [
        "a = 5\n",
        "isinstance(a, int)"
      ]
    },
    {
      "cell_type": "code",
      "execution_count": null,
      "metadata": {
        "colab": {
          "base_uri": "https://localhost:8080/"
        },
        "id": "aXkwrSQXcotd",
        "outputId": "2a0acb99-4d04-4660-cbac-21dc9a980189"
      },
      "outputs": [
        {
          "output_type": "execute_result",
          "data": {
            "text/plain": [
              "True"
            ]
          },
          "metadata": {},
          "execution_count": 42
        }
      ],
      "source": [
        "a = 5; b = 4.5\n",
        "isinstance(a, (int, float))\n",
        "isinstance(b, (int, float))"
      ]
    },
    {
      "cell_type": "code",
      "execution_count": null,
      "metadata": {
        "id": "Bg5PdtZqcotd"
      },
      "outputs": [],
      "source": [
        "a = \"foo\""
      ]
    },
    {
      "cell_type": "markdown",
      "metadata": {
        "id": "ctFRXWf0cotd"
      },
      "source": [
        "Try pressing the <tab> key after writing ```a.<tab>```, now you can appreciate the \"magic\".\n",
        "The functions associated to the string a are all visiable. This is defined by someone else (in the standard library) and they can be used to manipulate strings."
      ]
    },
    {
      "cell_type": "code",
      "execution_count": null,
      "metadata": {
        "colab": {
          "base_uri": "https://localhost:8080/"
        },
        "id": "aU6TqUupcotd",
        "outputId": "9ed4d0bf-9376-4d42-d871-905a09390a6a"
      },
      "outputs": [
        {
          "output_type": "execute_result",
          "data": {
            "text/plain": [
              "<function str.split(sep=None, maxsplit=-1)>"
            ]
          },
          "metadata": {},
          "execution_count": 44
        }
      ],
      "source": [
        "getattr(a, \"split\")"
      ]
    },
    {
      "cell_type": "markdown",
      "metadata": {
        "tags": [],
        "id": "hrM1aOANcotd"
      },
      "source": [
        "### Operators and comparisons\n",
        "\n",
        "Let us now play a bit with some useful operation. These basic functions allow to perform transformations on numbers, strings, and any object in python."
      ]
    },
    {
      "cell_type": "code",
      "execution_count": null,
      "metadata": {
        "colab": {
          "base_uri": "https://localhost:8080/"
        },
        "id": "sKXu_tvlcotd",
        "outputId": "c5a00b3d-ec3c-4edf-fc4d-f4e46add1137"
      },
      "outputs": [
        {
          "output_type": "execute_result",
          "data": {
            "text/plain": [
              "-2"
            ]
          },
          "metadata": {},
          "execution_count": 45
        }
      ],
      "source": [
        "5 - 7"
      ]
    },
    {
      "cell_type": "code",
      "execution_count": null,
      "metadata": {
        "colab": {
          "base_uri": "https://localhost:8080/"
        },
        "id": "BhLcH5wkcotd",
        "outputId": "96435ee0-0581-4b2d-c3b9-c8745e923265"
      },
      "outputs": [
        {
          "output_type": "execute_result",
          "data": {
            "text/plain": [
              "33.5"
            ]
          },
          "metadata": {},
          "execution_count": 46
        }
      ],
      "source": [
        "12 + 21.5"
      ]
    },
    {
      "cell_type": "code",
      "execution_count": null,
      "metadata": {
        "colab": {
          "base_uri": "https://localhost:8080/"
        },
        "id": "FOq9jKRJcotd",
        "outputId": "6efad06d-ee53-4081-81b8-d1b100133bbc"
      },
      "outputs": [
        {
          "output_type": "execute_result",
          "data": {
            "text/plain": [
              "False"
            ]
          },
          "metadata": {},
          "execution_count": 47
        }
      ],
      "source": [
        "5 <= 2"
      ]
    },
    {
      "cell_type": "code",
      "execution_count": null,
      "metadata": {
        "colab": {
          "base_uri": "https://localhost:8080/"
        },
        "id": "Gedf58ppcotd",
        "outputId": "8e87d763-04d4-42c7-84cb-3019b8e5f9dd"
      },
      "outputs": [
        {
          "output_type": "execute_result",
          "data": {
            "text/plain": [
              "True"
            ]
          },
          "metadata": {},
          "execution_count": 48
        }
      ],
      "source": [
        "a = [1, 2, 3]\n",
        "b = a\n",
        "c = list(a)\n",
        "a is b"
      ]
    },
    {
      "cell_type": "code",
      "execution_count": null,
      "metadata": {
        "colab": {
          "base_uri": "https://localhost:8080/"
        },
        "id": "ttWXJcVqcotd",
        "outputId": "0d4e98d0-60ad-4232-e8f3-e443f8e7c9ce"
      },
      "outputs": [
        {
          "output_type": "execute_result",
          "data": {
            "text/plain": [
              "True"
            ]
          },
          "metadata": {},
          "execution_count": 49
        }
      ],
      "source": [
        "a is not c"
      ]
    },
    {
      "cell_type": "markdown",
      "metadata": {
        "id": "fc0W-_m7cotd"
      },
      "source": [
        "Checking whether two variables are the same"
      ]
    },
    {
      "cell_type": "code",
      "execution_count": null,
      "metadata": {
        "colab": {
          "base_uri": "https://localhost:8080/"
        },
        "id": "WsDxaKM_cotd",
        "outputId": "b2c21288-90b7-44e1-a007-e48b3c61aef1"
      },
      "outputs": [
        {
          "output_type": "execute_result",
          "data": {
            "text/plain": [
              "True"
            ]
          },
          "metadata": {},
          "execution_count": 50
        }
      ],
      "source": [
        "a == c"
      ]
    },
    {
      "cell_type": "markdown",
      "metadata": {
        "id": "6y_u8H3Xcotd"
      },
      "source": [
        "Checking whether a variable is None"
      ]
    },
    {
      "cell_type": "code",
      "execution_count": null,
      "metadata": {
        "colab": {
          "base_uri": "https://localhost:8080/"
        },
        "id": "WQY2sHk_cotd",
        "outputId": "64ed4c22-afa4-4d2e-e3c7-fd698b50bfa1"
      },
      "outputs": [
        {
          "output_type": "execute_result",
          "data": {
            "text/plain": [
              "True"
            ]
          },
          "metadata": {},
          "execution_count": 51
        }
      ],
      "source": [
        "a = None\n",
        "a is None"
      ]
    },
    {
      "cell_type": "code",
      "execution_count": null,
      "metadata": {
        "colab": {
          "base_uri": "https://localhost:8080/"
        },
        "id": "gkzzvTzvcotd",
        "outputId": "f1b6c433-b7ae-41de-eb6b-b922a45bac25"
      },
      "outputs": [
        {
          "output_type": "execute_result",
          "data": {
            "text/plain": [
              "['foo', 2, (3, 4)]"
            ]
          },
          "metadata": {},
          "execution_count": 52
        }
      ],
      "source": [
        "a_list = [\"foo\", 2, [4, 5]]\n",
        "a_list[2] = (3, 4)\n",
        "a_list"
      ]
    },
    {
      "cell_type": "code",
      "execution_count": null,
      "metadata": {
        "colab": {
          "base_uri": "https://localhost:8080/",
          "height": 159
        },
        "id": "0CT1pJG7cotd",
        "outputId": "2a38dfb5-a2d8-45f2-e92d-3ca10984bbe8"
      },
      "outputs": [
        {
          "output_type": "error",
          "ename": "TypeError",
          "evalue": "'tuple' object does not support item assignment",
          "traceback": [
            "\u001b[0;31m---------------------------------------------------------------------------\u001b[0m",
            "\u001b[0;31mTypeError\u001b[0m                                 Traceback (most recent call last)",
            "\u001b[0;32m<ipython-input-53-a979dde8e57d>\u001b[0m in \u001b[0;36m<cell line: 2>\u001b[0;34m()\u001b[0m\n\u001b[1;32m      1\u001b[0m \u001b[0ma_tuple\u001b[0m \u001b[0;34m=\u001b[0m \u001b[0;34m(\u001b[0m\u001b[0;36m3\u001b[0m\u001b[0;34m,\u001b[0m \u001b[0;36m5\u001b[0m\u001b[0;34m,\u001b[0m \u001b[0;34m(\u001b[0m\u001b[0;36m4\u001b[0m\u001b[0;34m,\u001b[0m \u001b[0;36m5\u001b[0m\u001b[0;34m)\u001b[0m\u001b[0;34m)\u001b[0m\u001b[0;34m\u001b[0m\u001b[0;34m\u001b[0m\u001b[0m\n\u001b[0;32m----> 2\u001b[0;31m \u001b[0ma_tuple\u001b[0m\u001b[0;34m[\u001b[0m\u001b[0;36m1\u001b[0m\u001b[0;34m]\u001b[0m \u001b[0;34m=\u001b[0m \u001b[0;34m\"four\"\u001b[0m\u001b[0;34m\u001b[0m\u001b[0;34m\u001b[0m\u001b[0m\n\u001b[0m",
            "\u001b[0;31mTypeError\u001b[0m: 'tuple' object does not support item assignment"
          ]
        }
      ],
      "source": [
        "a_tuple = (3, 5, (4, 5))\n",
        "a_tuple[1] = \"four\""
      ]
    },
    {
      "cell_type": "code",
      "execution_count": null,
      "metadata": {
        "colab": {
          "base_uri": "https://localhost:8080/"
        },
        "id": "rtk0KorFcotd",
        "outputId": "4e797c6e-04d1-4582-dab8-bbd146919965"
      },
      "outputs": [
        {
          "output_type": "execute_result",
          "data": {
            "text/plain": [
              "26254519291092456596965462913230729701102721"
            ]
          },
          "metadata": {},
          "execution_count": 54
        }
      ],
      "source": [
        "ival = 17239871\n",
        "ival ** 6"
      ]
    },
    {
      "cell_type": "code",
      "execution_count": null,
      "metadata": {
        "id": "4sEDjImXcote"
      },
      "outputs": [],
      "source": [
        "fval = 7.243\n",
        "fval2 = 6.78e-5"
      ]
    },
    {
      "cell_type": "code",
      "execution_count": null,
      "metadata": {
        "colab": {
          "base_uri": "https://localhost:8080/"
        },
        "id": "QGND3GV2cote",
        "outputId": "38b54163-c5e7-4fa6-e80c-66d0917aab88"
      },
      "outputs": [
        {
          "output_type": "execute_result",
          "data": {
            "text/plain": [
              "1.5"
            ]
          },
          "metadata": {},
          "execution_count": 56
        }
      ],
      "source": [
        "3 / 2"
      ]
    },
    {
      "cell_type": "code",
      "execution_count": null,
      "metadata": {
        "colab": {
          "base_uri": "https://localhost:8080/"
        },
        "id": "R49QBXKBcote",
        "outputId": "1c91b585-a2c4-41f0-bbe5-d137e52d62f4"
      },
      "outputs": [
        {
          "output_type": "execute_result",
          "data": {
            "text/plain": [
              "1"
            ]
          },
          "metadata": {},
          "execution_count": 57
        }
      ],
      "source": [
        "3 // 2"
      ]
    },
    {
      "cell_type": "markdown",
      "metadata": {
        "id": "YjVAr3h-cote"
      },
      "source": [
        "A summary of the operations is explained in the table below.\n",
        "\n",
        "| Operation       | Description                                                                                               |\n",
        "| --------------- | --------------------------------------------------------------------------------------------------------- |\n",
        "| `a + b`         | Add `a` and `b`                                                                                           |\n",
        "| `a - b`         | Subtract `b` from `a`                                                                                     |\n",
        "| `a * b`         | Multiply `a` by `b`                                                                                       |\n",
        "| `a / b`         | Divide `a` by `b`                                                                                         |\n",
        "| `a // b`        | Floor-divide `a` by `b`, dropping any fractional remainder                                                |\n",
        "| `a ** b`        | Raise `a` to the `b` power                                                                                |\n",
        "| `a & b`         | `True` if both `a` and `b` are `True`; for integers, take the bitwise `AND`                               |\n",
        "| `a \\| b`         | `True` if either `a` or `b` is `True`; for integers, take the bitwise `OR`                                |\n",
        "| `a ^ b`         | For Booleans, `True` if `a` or `b` is `True`, but not both; for integers, take the bitwise `EXCLUSIVE-OR` |\n",
        "| `a == b`        | `True` if `a` equals `b`                                                                                  |\n",
        "| `a != b`        | `True` if `a` is not equal to `b`                                                                         |\n",
        "| `a < b`, a <= b | `True` if `a` is less than (less than or equal to) `b`                                                    |\n",
        "| `a > b, a >= b` | `True` if `a` is greater than (greater than or equal to) `b`                                              |\n",
        "| `a is b`        | `True` if `a` and `b` reference the same Python object                                                    |\n",
        "| `a is not b`    | `True` if `a` and `b` reference different Python objects                                                  |"
      ]
    },
    {
      "cell_type": "markdown",
      "metadata": {
        "id": "YzWFlk78cote"
      },
      "source": [
        "### String manipulation"
      ]
    },
    {
      "cell_type": "code",
      "execution_count": null,
      "metadata": {
        "id": "s4RC1Z1Ecote"
      },
      "outputs": [],
      "source": [
        "c = \"\"\"This is a longer string that\n",
        "spans multiple lines\n",
        "\"\"\""
      ]
    },
    {
      "cell_type": "code",
      "execution_count": null,
      "metadata": {
        "colab": {
          "base_uri": "https://localhost:8080/"
        },
        "id": "jxACDr8tcote",
        "outputId": "132b0665-1cb2-452c-c5a1-2dc41d65662d"
      },
      "outputs": [
        {
          "output_type": "execute_result",
          "data": {
            "text/plain": [
              "2"
            ]
          },
          "metadata": {},
          "execution_count": 20
        }
      ],
      "source": [
        "c.count(\"\\n\")"
      ]
    },
    {
      "cell_type": "code",
      "execution_count": null,
      "metadata": {
        "colab": {
          "base_uri": "https://localhost:8080/",
          "height": 159
        },
        "id": "6aOOHo_Tcote",
        "outputId": "ec259869-c817-4f87-8c59-89f85a816b49"
      },
      "outputs": [
        {
          "output_type": "error",
          "ename": "TypeError",
          "evalue": "'str' object does not support item assignment",
          "traceback": [
            "\u001b[0;31m---------------------------------------------------------------------------\u001b[0m",
            "\u001b[0;31mTypeError\u001b[0m                                 Traceback (most recent call last)",
            "\u001b[0;32m<ipython-input-58-8df2a2fe1bd2>\u001b[0m in \u001b[0;36m<cell line: 2>\u001b[0;34m()\u001b[0m\n\u001b[1;32m      1\u001b[0m \u001b[0ma\u001b[0m \u001b[0;34m=\u001b[0m \u001b[0;34m\"this is a string\"\u001b[0m\u001b[0;34m\u001b[0m\u001b[0;34m\u001b[0m\u001b[0m\n\u001b[0;32m----> 2\u001b[0;31m \u001b[0ma\u001b[0m\u001b[0;34m[\u001b[0m\u001b[0;36m10\u001b[0m\u001b[0;34m]\u001b[0m \u001b[0;34m=\u001b[0m \u001b[0;34m\"f\"\u001b[0m\u001b[0;34m\u001b[0m\u001b[0;34m\u001b[0m\u001b[0m\n\u001b[0m",
            "\u001b[0;31mTypeError\u001b[0m: 'str' object does not support item assignment"
          ]
        }
      ],
      "source": [
        "a = \"this is a string\"\n",
        "a[10] = \"f\""
      ]
    },
    {
      "cell_type": "markdown",
      "metadata": {
        "id": "7Ks3JCEHcote"
      },
      "source": [
        "In the code above, the interpreter gave us an error. Why?\n",
        "\n",
        "**String are immutable objects**, that means that their value cannot be changed.\n",
        "The only way to modify a string is to create a new one by using the function ```replace```\n"
      ]
    },
    {
      "cell_type": "code",
      "execution_count": null,
      "metadata": {
        "colab": {
          "base_uri": "https://localhost:8080/",
          "height": 35
        },
        "id": "-UUoDT2Qcote",
        "outputId": "624d887f-e141-44f9-8316-a46f09ee5504"
      },
      "outputs": [
        {
          "output_type": "execute_result",
          "data": {
            "text/plain": [
              "'this is a longer string'"
            ],
            "application/vnd.google.colaboratory.intrinsic+json": {
              "type": "string"
            }
          },
          "metadata": {},
          "execution_count": 59
        }
      ],
      "source": [
        "b = a.replace(\"string\", \"longer string\")\n",
        "b"
      ]
    },
    {
      "cell_type": "code",
      "execution_count": null,
      "metadata": {
        "colab": {
          "base_uri": "https://localhost:8080/",
          "height": 35
        },
        "id": "eHTYF7Hrcote",
        "outputId": "4f7201aa-841e-4eae-d739-eb7179795133"
      },
      "outputs": [
        {
          "output_type": "execute_result",
          "data": {
            "text/plain": [
              "'this is a string'"
            ],
            "application/vnd.google.colaboratory.intrinsic+json": {
              "type": "string"
            }
          },
          "metadata": {},
          "execution_count": 60
        }
      ],
      "source": [
        "a"
      ]
    },
    {
      "cell_type": "markdown",
      "metadata": {
        "id": "esmu6c3Xcote"
      },
      "source": [
        "It is also possible to convert numbers to strings and viceversa. The operation that converts a type into another is called _casting_. To cast a variable use the functions ```str, int, float, ...``` on a variable."
      ]
    },
    {
      "cell_type": "code",
      "execution_count": null,
      "metadata": {
        "colab": {
          "base_uri": "https://localhost:8080/"
        },
        "id": "IMggCUWycote",
        "outputId": "40067509-63db-4af9-ccf9-08afb1fd337a"
      },
      "outputs": [
        {
          "output_type": "stream",
          "name": "stdout",
          "text": [
            "5.6\n"
          ]
        }
      ],
      "source": [
        "a = 5.6\n",
        "s = str(a)\n",
        "print(s)"
      ]
    },
    {
      "cell_type": "code",
      "execution_count": null,
      "metadata": {
        "colab": {
          "base_uri": "https://localhost:8080/"
        },
        "id": "PRUXEufXcote",
        "outputId": "376937eb-7a52-49b2-8af2-5ea19d48e73e"
      },
      "outputs": [
        {
          "output_type": "execute_result",
          "data": {
            "text/plain": [
              "['p', 'y', 't']"
            ]
          },
          "metadata": {},
          "execution_count": 62
        }
      ],
      "source": [
        "s = \"python\"\n",
        "sl = list(s)\n",
        "sl[:3]"
      ]
    },
    {
      "cell_type": "markdown",
      "metadata": {
        "id": "eqoseb-Wcote"
      },
      "source": [
        "If you want to insert a \"\\\\\" in your string you need to write it twice."
      ]
    },
    {
      "cell_type": "code",
      "execution_count": null,
      "metadata": {
        "colab": {
          "base_uri": "https://localhost:8080/"
        },
        "id": "t2soZio6cote",
        "outputId": "85d9e5e6-ef48-4623-c34a-84de9ecdc2a4"
      },
      "outputs": [
        {
          "output_type": "stream",
          "name": "stdout",
          "text": [
            "12\\34\n"
          ]
        }
      ],
      "source": [
        "s = \"12\\\\34\"\n",
        "print(s)"
      ]
    },
    {
      "cell_type": "markdown",
      "metadata": {
        "id": "CARCJQ__cote"
      },
      "source": [
        "Or use ```r\"your_string\"```"
      ]
    },
    {
      "cell_type": "code",
      "execution_count": null,
      "metadata": {
        "colab": {
          "base_uri": "https://localhost:8080/",
          "height": 35
        },
        "id": "qDpKpBilcote",
        "outputId": "851efbf3-f620-4ac5-e7be-b335ae64e47e"
      },
      "outputs": [
        {
          "output_type": "execute_result",
          "data": {
            "text/plain": [
              "'this\\\\has\\\\no\\\\special\\\\characters'"
            ],
            "application/vnd.google.colaboratory.intrinsic+json": {
              "type": "string"
            }
          },
          "metadata": {},
          "execution_count": 64
        }
      ],
      "source": [
        "s = r\"this\\has\\no\\special\\characters\"\n",
        "s"
      ]
    },
    {
      "cell_type": "code",
      "execution_count": null,
      "metadata": {
        "colab": {
          "base_uri": "https://localhost:8080/",
          "height": 35
        },
        "id": "DVP5rqlicote",
        "outputId": "8e91200f-4ea2-43e1-dbc1-ad7ed70f72b3"
      },
      "outputs": [
        {
          "output_type": "execute_result",
          "data": {
            "text/plain": [
              "'this is the first half and this is the second half'"
            ],
            "application/vnd.google.colaboratory.intrinsic+json": {
              "type": "string"
            }
          },
          "metadata": {},
          "execution_count": 65
        }
      ],
      "source": [
        "# Easy way to concatenate strings, mind that you copy a and b into a new string!\n",
        "a = \"this is the first half \"\n",
        "b = \"and this is the second half\"\n",
        "a + b"
      ]
    },
    {
      "cell_type": "markdown",
      "metadata": {
        "id": "RDe96_mCcote"
      },
      "source": [
        "**String formatting** is an important operation to insert computed values into your strings."
      ]
    },
    {
      "cell_type": "code",
      "execution_count": null,
      "metadata": {
        "id": "AYgSEEoscote"
      },
      "outputs": [],
      "source": [
        "template = \"{0:.2f} {1:s} are worth US${2:d}\""
      ]
    },
    {
      "cell_type": "code",
      "execution_count": null,
      "metadata": {
        "colab": {
          "base_uri": "https://localhost:8080/",
          "height": 35
        },
        "id": "gkEIwiiscotf",
        "outputId": "dfb95b49-675b-4624-b862-60d959850c3f"
      },
      "outputs": [
        {
          "output_type": "execute_result",
          "data": {
            "text/plain": [
              "'88.46 Argentine Pesos are worth US$1'"
            ],
            "application/vnd.google.colaboratory.intrinsic+json": {
              "type": "string"
            }
          },
          "metadata": {},
          "execution_count": 67
        }
      ],
      "source": [
        "template.format(88.46, \"Argentine Pesos\", 1)"
      ]
    },
    {
      "cell_type": "markdown",
      "metadata": {
        "id": "yl4mswKVcotf"
      },
      "source": [
        "**Alternatively** we can use the the string formatting f\"string\""
      ]
    },
    {
      "cell_type": "code",
      "execution_count": null,
      "metadata": {
        "colab": {
          "base_uri": "https://localhost:8080/",
          "height": 35
        },
        "id": "44V5FUvVcotf",
        "outputId": "c211630a-cdad-46ac-d7f7-b7633b572e07"
      },
      "outputs": [
        {
          "output_type": "execute_result",
          "data": {
            "text/plain": [
              "'10 Pesos is worth US$0.11304544426859599'"
            ],
            "application/vnd.google.colaboratory.intrinsic+json": {
              "type": "string"
            }
          },
          "metadata": {},
          "execution_count": 68
        }
      ],
      "source": [
        "amount = 10\n",
        "rate = 88.46\n",
        "currency = \"Pesos\"\n",
        "result = f\"{amount} {currency} is worth US${amount / rate}\"\n",
        "result"
      ]
    },
    {
      "cell_type": "code",
      "execution_count": null,
      "metadata": {
        "colab": {
          "base_uri": "https://localhost:8080/",
          "height": 35
        },
        "id": "ypVhh8SBcotf",
        "outputId": "724c5194-efba-444d-a4f6-0aca91a9f393"
      },
      "outputs": [
        {
          "output_type": "execute_result",
          "data": {
            "text/plain": [
              "'10 Pesos is worth US$0.11'"
            ],
            "application/vnd.google.colaboratory.intrinsic+json": {
              "type": "string"
            }
          },
          "metadata": {},
          "execution_count": 69
        }
      ],
      "source": [
        "# Operations are allowed in formatting, as well as specification of types\n",
        "f\"{amount} {currency} is worth US${amount / rate:.2f}\""
      ]
    },
    {
      "cell_type": "markdown",
      "metadata": {
        "id": "y8HhsHBQcotf"
      },
      "source": [
        "It is also possible to use special characters, such as the ø in Danish. However, when you do that remember to encode the string to avoid problems while using the text in another machine."
      ]
    },
    {
      "cell_type": "code",
      "execution_count": null,
      "metadata": {
        "colab": {
          "base_uri": "https://localhost:8080/",
          "height": 35
        },
        "id": "kuJ0jVXlcotf",
        "outputId": "11c46b87-3560-4c13-aa68-ff04371a78bd"
      },
      "outputs": [
        {
          "output_type": "execute_result",
          "data": {
            "text/plain": [
              "'español'"
            ],
            "application/vnd.google.colaboratory.intrinsic+json": {
              "type": "string"
            }
          },
          "metadata": {},
          "execution_count": 70
        }
      ],
      "source": [
        "val = \"español\"\n",
        "val"
      ]
    },
    {
      "cell_type": "code",
      "execution_count": null,
      "metadata": {
        "colab": {
          "base_uri": "https://localhost:8080/"
        },
        "id": "282TDgMMcotf",
        "outputId": "5ca00162-a424-4335-e258-5d21d6c79d1c"
      },
      "outputs": [
        {
          "output_type": "execute_result",
          "data": {
            "text/plain": [
              "bytes"
            ]
          },
          "metadata": {},
          "execution_count": 71
        }
      ],
      "source": [
        "val_utf8 = val.encode(\"utf-8\")\n",
        "val_utf8\n",
        "type(val_utf8)"
      ]
    },
    {
      "cell_type": "code",
      "execution_count": null,
      "metadata": {
        "colab": {
          "base_uri": "https://localhost:8080/",
          "height": 35
        },
        "id": "YNMTWPbHcotf",
        "outputId": "4d9dba52-4a0a-41ce-b985-9765b13f66f8"
      },
      "outputs": [
        {
          "output_type": "execute_result",
          "data": {
            "text/plain": [
              "'español'"
            ],
            "application/vnd.google.colaboratory.intrinsic+json": {
              "type": "string"
            }
          },
          "metadata": {},
          "execution_count": 72
        }
      ],
      "source": [
        "val_utf8.decode(\"utf-8\")"
      ]
    },
    {
      "cell_type": "code",
      "execution_count": null,
      "metadata": {
        "colab": {
          "base_uri": "https://localhost:8080/"
        },
        "id": "Orcg-d9Qcotf",
        "outputId": "ba9abb90-abb0-4c46-b390-4a4b36fe7257"
      },
      "outputs": [
        {
          "output_type": "execute_result",
          "data": {
            "text/plain": [
              "b'e\\x00s\\x00p\\x00a\\x00\\xf1\\x00o\\x00l\\x00'"
            ]
          },
          "metadata": {},
          "execution_count": 73
        }
      ],
      "source": [
        "\n",
        "val.encode(\"latin1\")\n",
        "val.encode(\"utf-16\")\n",
        "val.encode(\"utf-16le\")"
      ]
    },
    {
      "cell_type": "markdown",
      "metadata": {
        "id": "thdVDvJdcotf"
      },
      "source": [
        "### Boolean operations\n",
        "\n",
        "```True```and ```False``` are the only values a boolean variable can take. Boolean variables allow for operations, such as and and or."
      ]
    },
    {
      "cell_type": "code",
      "execution_count": null,
      "metadata": {
        "colab": {
          "base_uri": "https://localhost:8080/"
        },
        "id": "PyhKdzsvcotf",
        "outputId": "4ad2f027-203e-423d-8c39-789564b88a52"
      },
      "outputs": [
        {
          "output_type": "execute_result",
          "data": {
            "text/plain": [
              "True"
            ]
          },
          "metadata": {},
          "execution_count": 74
        }
      ],
      "source": [
        "True and True\n",
        "False or True"
      ]
    },
    {
      "cell_type": "code",
      "execution_count": null,
      "metadata": {
        "colab": {
          "base_uri": "https://localhost:8080/"
        },
        "id": "IjuQzb9Tcotf",
        "outputId": "6156659d-0fec-4442-d330-8526a542e1c9"
      },
      "outputs": [
        {
          "output_type": "execute_result",
          "data": {
            "text/plain": [
              "1"
            ]
          },
          "metadata": {},
          "execution_count": 75
        }
      ],
      "source": [
        "int(False)\n",
        "int(True)"
      ]
    },
    {
      "cell_type": "code",
      "execution_count": null,
      "metadata": {
        "colab": {
          "base_uri": "https://localhost:8080/"
        },
        "id": "YqddAgJ4cotf",
        "outputId": "a339f791-46c1-4c3a-b731-189892141605"
      },
      "outputs": [
        {
          "output_type": "execute_result",
          "data": {
            "text/plain": [
              "True"
            ]
          },
          "metadata": {},
          "execution_count": 76
        }
      ],
      "source": [
        "a = True\n",
        "b = False\n",
        "not a\n",
        "not b"
      ]
    },
    {
      "cell_type": "code",
      "execution_count": null,
      "metadata": {
        "colab": {
          "base_uri": "https://localhost:8080/"
        },
        "id": "KFjmZO5Qcotf",
        "outputId": "9a8b1720-5385-425d-c352-4e535d3733f9"
      },
      "outputs": [
        {
          "output_type": "execute_result",
          "data": {
            "text/plain": [
              "False"
            ]
          },
          "metadata": {},
          "execution_count": 77
        }
      ],
      "source": [
        "s = \"3.14159\"\n",
        "fval = float(s)\n",
        "type(fval)\n",
        "int(fval)\n",
        "bool(fval)\n",
        "bool(0)"
      ]
    },
    {
      "cell_type": "markdown",
      "metadata": {
        "id": "yGnYflp_cotf"
      },
      "source": [
        "```None``` is a keyword that indicates \"no type\". To check whether a variable has no type use\n",
        "```python\n",
        "var is None\n",
        "```"
      ]
    },
    {
      "cell_type": "code",
      "execution_count": null,
      "metadata": {
        "colab": {
          "base_uri": "https://localhost:8080/"
        },
        "id": "2g0uScthcotf",
        "outputId": "bc36a4ea-fc39-4bc9-8556-50ffc8382248"
      },
      "outputs": [
        {
          "output_type": "execute_result",
          "data": {
            "text/plain": [
              "True"
            ]
          },
          "metadata": {},
          "execution_count": 78
        }
      ],
      "source": [
        "\n",
        "a = None\n",
        "a is None\n",
        "b = 5\n",
        "b is not None"
      ]
    },
    {
      "cell_type": "markdown",
      "metadata": {
        "id": "QWJDrjfRcotf"
      },
      "source": [
        "Another useful operation concerns the manipulation of dates and times."
      ]
    },
    {
      "cell_type": "code",
      "execution_count": null,
      "metadata": {
        "colab": {
          "base_uri": "https://localhost:8080/"
        },
        "id": "BVudlXO5cotf",
        "outputId": "a1c1f7a5-d3af-4245-f01c-47ebed8b1246"
      },
      "outputs": [
        {
          "output_type": "execute_result",
          "data": {
            "text/plain": [
              "30"
            ]
          },
          "metadata": {},
          "execution_count": 79
        }
      ],
      "source": [
        "from datetime import datetime, date, time\n",
        "dt = datetime(2011, 10, 29, 20, 30, 21) # use datetime to define a specific time\n",
        "dt.day\n",
        "dt.minute"
      ]
    },
    {
      "cell_type": "code",
      "execution_count": null,
      "metadata": {
        "colab": {
          "base_uri": "https://localhost:8080/"
        },
        "id": "xG83mM9qcotf",
        "outputId": "e1ca516d-7a0a-439d-ddda-28752d767a04"
      },
      "outputs": [
        {
          "output_type": "execute_result",
          "data": {
            "text/plain": [
              "datetime.time(20, 30, 21)"
            ]
          },
          "metadata": {},
          "execution_count": 80
        }
      ],
      "source": [
        "dt.date()\n",
        "dt.time()"
      ]
    },
    {
      "cell_type": "code",
      "execution_count": null,
      "metadata": {
        "colab": {
          "base_uri": "https://localhost:8080/",
          "height": 35
        },
        "id": "BlYYlbQAcotf",
        "outputId": "20923b17-b148-4238-d100-7387a860fba7"
      },
      "outputs": [
        {
          "output_type": "execute_result",
          "data": {
            "text/plain": [
              "'2011-10-29 20:30'"
            ],
            "application/vnd.google.colaboratory.intrinsic+json": {
              "type": "string"
            }
          },
          "metadata": {},
          "execution_count": 81
        }
      ],
      "source": [
        "dt.strftime(\"%Y-%m-%d %H:%M\") # Format the time as you wish"
      ]
    },
    {
      "cell_type": "code",
      "execution_count": null,
      "metadata": {
        "colab": {
          "base_uri": "https://localhost:8080/"
        },
        "id": "ZNcUAZXYcotf",
        "outputId": "028d912c-1547-4189-e6c0-8c3bbdfe04a1"
      },
      "outputs": [
        {
          "output_type": "execute_result",
          "data": {
            "text/plain": [
              "datetime.datetime(2009, 10, 31, 0, 0)"
            ]
          },
          "metadata": {},
          "execution_count": 82
        }
      ],
      "source": [
        "datetime.strptime(\"20091031\", \"%Y%m%d\") # Reformat exisitng time"
      ]
    },
    {
      "cell_type": "code",
      "execution_count": null,
      "metadata": {
        "colab": {
          "base_uri": "https://localhost:8080/"
        },
        "id": "P5EaulCAcotf",
        "outputId": "5353eab1-f908-49d7-9f50-3860350a9084"
      },
      "outputs": [
        {
          "output_type": "execute_result",
          "data": {
            "text/plain": [
              "datetime.datetime(2011, 10, 29, 20, 0)"
            ]
          },
          "metadata": {},
          "execution_count": 83
        }
      ],
      "source": [
        "dt_hour = dt.replace(minute=0, second=0)\n",
        "dt_hour"
      ]
    },
    {
      "cell_type": "code",
      "execution_count": null,
      "metadata": {
        "colab": {
          "base_uri": "https://localhost:8080/"
        },
        "id": "uKch91jwcotf",
        "outputId": "499fcd33-f75a-478c-d489-86fd1d55af9e"
      },
      "outputs": [
        {
          "output_type": "execute_result",
          "data": {
            "text/plain": [
              "datetime.datetime(2011, 10, 29, 20, 30, 21)"
            ]
          },
          "metadata": {},
          "execution_count": 84
        }
      ],
      "source": [
        "dt # datetime is an object that contains information about years, months, ..."
      ]
    },
    {
      "cell_type": "code",
      "execution_count": null,
      "metadata": {
        "colab": {
          "base_uri": "https://localhost:8080/"
        },
        "id": "iwSqAcZ9cotf",
        "outputId": "39e73c24-c444-4382-a97b-bedc75c2f925"
      },
      "outputs": [
        {
          "output_type": "execute_result",
          "data": {
            "text/plain": [
              "datetime.timedelta"
            ]
          },
          "metadata": {},
          "execution_count": 85
        }
      ],
      "source": [
        "\n",
        "dt2 = datetime(2011, 11, 15, 22, 30)\n",
        "delta = dt2 - dt\n",
        "delta\n",
        "type(delta)"
      ]
    },
    {
      "cell_type": "code",
      "execution_count": null,
      "metadata": {
        "colab": {
          "base_uri": "https://localhost:8080/"
        },
        "id": "h49pHHzRcotf",
        "outputId": "0a6c3149-c1ec-4457-c4c0-c9cfda26ec2f"
      },
      "outputs": [
        {
          "output_type": "execute_result",
          "data": {
            "text/plain": [
              "datetime.datetime(2011, 11, 15, 22, 30)"
            ]
          },
          "metadata": {},
          "execution_count": 86
        }
      ],
      "source": [
        "# datetime allows operation, such as adding two days together\n",
        "dt\n",
        "dt + delta"
      ]
    },
    {
      "cell_type": "markdown",
      "metadata": {
        "id": "Iv2fCfjDcotf"
      },
      "source": [
        "### Control statements (if)\n",
        "\n",
        "One of the most important feature of programming languages is control statements, that allow to execute a piece of code only under some specific conditions. In python, the main control statements are the if-statements. The syntax is the following\n",
        "```python\n",
        "if condition:\n",
        "    code_if_condition_true\n",
        "else:\n",
        "    code_if_condition_false\n",
        "```\n",
        "\n",
        "Let's see some example."
      ]
    },
    {
      "cell_type": "code",
      "execution_count": null,
      "metadata": {
        "colab": {
          "base_uri": "https://localhost:8080/"
        },
        "id": "FGCiybRacotg",
        "outputId": "ca7c34a7-6eef-4c2b-ff69-b6c7ab7a29a8"
      },
      "outputs": [
        {
          "output_type": "stream",
          "name": "stdout",
          "text": [
            "Made it\n"
          ]
        }
      ],
      "source": [
        "# Does the code below print or not?\n",
        "a = 5; b = 7\n",
        "c = 8; d = 4\n",
        "if a < b or c > d:\n",
        "    print(\"Made it\")"
      ]
    },
    {
      "cell_type": "markdown",
      "metadata": {
        "id": "VJMZtsf0cotg"
      },
      "source": [
        "Alternatively one can use ```elif``` to define further conditions."
      ]
    },
    {
      "cell_type": "code",
      "execution_count": null,
      "metadata": {
        "colab": {
          "base_uri": "https://localhost:8080/"
        },
        "id": "RqHcK1kocotg",
        "outputId": "4981844e-8803-4fe2-8277-e5d3480c362b"
      },
      "outputs": [
        {
          "output_type": "stream",
          "name": "stdout",
          "text": [
            "Young adult\n"
          ]
        }
      ],
      "source": [
        "age = 27\n",
        "\n",
        "if age < 10:\n",
        "    print('Child')\n",
        "elif age < 15:\n",
        "    print('Teenager')\n",
        "elif age < 30:\n",
        "    print('Young adult')\n",
        "elif age < 60:\n",
        "    print('Adult')\n",
        "else:\n",
        "    print('Senior')"
      ]
    },
    {
      "cell_type": "markdown",
      "metadata": {
        "id": "-sOq9iVBcotg"
      },
      "source": [
        "Comparison (>,<, >=, <=), operators (and, or, not), and containment (in) operators allow for defining conditions in the if-statements."
      ]
    },
    {
      "cell_type": "code",
      "execution_count": null,
      "metadata": {
        "colab": {
          "base_uri": "https://localhost:8080/"
        },
        "id": "KH5eJErpcotg",
        "outputId": "28a9ebf9-ad41-44d2-9797-7403bcf322e7"
      },
      "outputs": [
        {
          "output_type": "execute_result",
          "data": {
            "text/plain": [
              "True"
            ]
          },
          "metadata": {},
          "execution_count": 89
        }
      ],
      "source": [
        "4 > 3 > 2 > 1"
      ]
    },
    {
      "cell_type": "markdown",
      "metadata": {
        "id": "k5gtTUUIcotg"
      },
      "source": [
        "### Loops\n",
        "\n",
        "Loops allow for iterating over numbers or set of objects. Python defines two different loops:\n",
        "    - _for_ loops to iterate over objects\n",
        "    - _while_ loops to iterate until a condition is True\n",
        "    \n",
        "#### For-loops\n",
        "\n",
        "The syntax of a for-loop is the following.\n",
        "\n",
        "```python\n",
        "for variable in objects:\n",
        "    do_something\n",
        "```\n",
        "\n",
        "Let us try generating all the pairs of numbers from 0 to 4."
      ]
    },
    {
      "cell_type": "code",
      "execution_count": null,
      "metadata": {
        "colab": {
          "base_uri": "https://localhost:8080/"
        },
        "id": "Bw8QOSu1cotg",
        "outputId": "8107664d-0f22-445e-c3e1-c4e4c271f08d"
      },
      "outputs": [
        {
          "output_type": "stream",
          "name": "stdout",
          "text": [
            "(0, 0)\n",
            "(1, 0)\n",
            "(1, 1)\n",
            "(2, 0)\n",
            "(2, 1)\n",
            "(2, 2)\n",
            "(3, 0)\n",
            "(3, 1)\n",
            "(3, 2)\n",
            "(3, 3)\n"
          ]
        }
      ],
      "source": [
        "for i in range(4):\n",
        "    for j in range(4):\n",
        "        if j > i:\n",
        "            break\n",
        "        print((i, j))"
      ]
    },
    {
      "cell_type": "markdown",
      "metadata": {
        "id": "0HIoGlqWcotg"
      },
      "source": [
        "The function ```range(10)``` returns an object that iterates over the numbers from 0 to 9.  "
      ]
    },
    {
      "cell_type": "code",
      "execution_count": null,
      "metadata": {
        "colab": {
          "base_uri": "https://localhost:8080/"
        },
        "id": "ZCSSOztRcotg",
        "outputId": "3ec9071e-fd23-4dac-944c-de899620fce4"
      },
      "outputs": [
        {
          "output_type": "stream",
          "name": "stdout",
          "text": [
            "range(0, 10)\n",
            "[0, 1, 2, 3, 4, 5, 6, 7, 8, 9]\n"
          ]
        }
      ],
      "source": [
        "print(range(10))\n",
        "print(list(range(10)))"
      ]
    },
    {
      "cell_type": "code",
      "execution_count": null,
      "metadata": {
        "colab": {
          "base_uri": "https://localhost:8080/"
        },
        "id": "HHkirqiscotg",
        "outputId": "a704e91d-de41-4f4a-e134-f22b8ebabe67"
      },
      "outputs": [
        {
          "output_type": "stream",
          "name": "stdout",
          "text": [
            "[0, 2, 4, 6, 8, 10, 12, 14, 16, 18]\n",
            "[5, 4, 3, 2, 1]\n"
          ]
        }
      ],
      "source": [
        "print(list(range(0, 20, 2))) # Iterate in steps of 2\n",
        "print(list(range(5, 0, -1)))"
      ]
    },
    {
      "cell_type": "markdown",
      "metadata": {
        "id": "X5rJn8-Scotg"
      },
      "source": [
        "Equivalently one could write a for-loop over a predefined list of numbers."
      ]
    },
    {
      "cell_type": "code",
      "execution_count": null,
      "metadata": {
        "colab": {
          "base_uri": "https://localhost:8080/"
        },
        "id": "38i0BcEWcotg",
        "outputId": "1760418e-a69d-4a33-d1cb-9792240a1e75"
      },
      "outputs": [
        {
          "output_type": "stream",
          "name": "stdout",
          "text": [
            "element 0: 1\n",
            "element 1: 2\n",
            "element 2: 3\n",
            "element 3: 4\n"
          ]
        }
      ],
      "source": [
        "seq = [1, 2, 3, 4]\n",
        "for i in range(len(seq)):\n",
        "    print(f\"element {i}: {seq[i]}\")"
      ]
    },
    {
      "cell_type": "markdown",
      "metadata": {
        "id": "ooO4bY0fcotg"
      },
      "source": [
        "For and if can be, of course, combined together."
      ]
    },
    {
      "cell_type": "code",
      "execution_count": null,
      "metadata": {
        "colab": {
          "base_uri": "https://localhost:8080/"
        },
        "id": "omO1hluUcotg",
        "outputId": "54773d8f-e1c6-49b4-b138-95e1f3ee9f5a"
      },
      "outputs": [
        {
          "output_type": "stream",
          "name": "stdout",
          "text": [
            "2333316668\n"
          ]
        }
      ],
      "source": [
        "total = 0\n",
        "for i in range(100_000):\n",
        "    # % is the modulo operator\n",
        "    if i % 3 == 0 or i % 5 == 0:\n",
        "        total += i\n",
        "print(total)"
      ]
    },
    {
      "cell_type": "markdown",
      "metadata": {
        "id": "-q-pDE3-cotg"
      },
      "source": [
        "### While-loops\n",
        "\n",
        "A while-loop repeats a piece of code until the condition is True. The syntax is the following.\n",
        "\n",
        "```python\n",
        "while condition:\n",
        "    do_something\n",
        "```"
      ]
    },
    {
      "cell_type": "code",
      "execution_count": null,
      "metadata": {
        "colab": {
          "base_uri": "https://localhost:8080/"
        },
        "id": "z2EECoOxcotg",
        "outputId": "6bf8f192-9365-4fee-ef13-80077e0a385e"
      },
      "outputs": [
        {
          "output_type": "stream",
          "name": "stdout",
          "text": [
            "peeee\n"
          ]
        }
      ],
      "source": [
        "s = 'p'\n",
        "\n",
        "while len(s) < 5:\n",
        "    s += 'e'\n",
        "\n",
        "print(s)"
      ]
    },
    {
      "cell_type": "markdown",
      "metadata": {
        "tags": [],
        "id": "sKkkapEFcotg"
      },
      "source": [
        "## Collections: Tuples, Lists, Sets, Dictionaries\n",
        "\n",
        "We now look a bit more closely to four of the main collections in Python. A collectionis a \"container\" of data.\n",
        "\n",
        "Depending on the application, you might find yourself choosing one or the other."
      ]
    },
    {
      "cell_type": "markdown",
      "metadata": {
        "tags": [],
        "id": "t2sFuqJ6cotg"
      },
      "source": [
        "### Tuples\n",
        "\n",
        "A tuple is an *immutable* object, in which each position corresponds to a specific item of any type. A tuple is the natural extension of a pair.\n",
        "To declare a tuple, you can use the syntax ```(item1, item2, ..., itemN)```"
      ]
    },
    {
      "cell_type": "code",
      "execution_count": null,
      "metadata": {
        "colab": {
          "base_uri": "https://localhost:8080/"
        },
        "id": "Yb75z0Wmcotg",
        "outputId": "6f4f27e5-a646-4d8c-99f1-cc4a0c5783f9"
      },
      "outputs": [
        {
          "output_type": "execute_result",
          "data": {
            "text/plain": [
              "(4, 5, 6)"
            ]
          },
          "metadata": {},
          "execution_count": 96
        }
      ],
      "source": [
        "tup = (4, 5, 6)\n",
        "tup"
      ]
    },
    {
      "cell_type": "code",
      "execution_count": null,
      "metadata": {
        "colab": {
          "base_uri": "https://localhost:8080/"
        },
        "id": "ksfvELtAcotg",
        "outputId": "5ae0d738-8fec-4911-9635-8586f7321ae8"
      },
      "outputs": [
        {
          "output_type": "execute_result",
          "data": {
            "text/plain": [
              "(4, 5, 6)"
            ]
          },
          "metadata": {},
          "execution_count": 97
        }
      ],
      "source": [
        "tup = 4, 5, 6\n",
        "tup"
      ]
    },
    {
      "cell_type": "markdown",
      "metadata": {
        "id": "mB6KYLeBcoth"
      },
      "source": [
        "Using the function ```tuple``` it is possible to construct tuples from lists or strings."
      ]
    },
    {
      "cell_type": "code",
      "execution_count": null,
      "metadata": {
        "colab": {
          "base_uri": "https://localhost:8080/"
        },
        "id": "JalRiN0Kcoth",
        "outputId": "842daa50-3b88-4348-831d-3c87b74f8971"
      },
      "outputs": [
        {
          "output_type": "execute_result",
          "data": {
            "text/plain": [
              "(4, 0, 2)"
            ]
          },
          "metadata": {},
          "execution_count": 98
        }
      ],
      "source": [
        "tuple([4, 0, 2])"
      ]
    },
    {
      "cell_type": "code",
      "execution_count": null,
      "metadata": {
        "colab": {
          "base_uri": "https://localhost:8080/"
        },
        "id": "YWM8gGYXcoth",
        "outputId": "bab77150-e4db-4818-a056-ebfdbac659f7"
      },
      "outputs": [
        {
          "output_type": "execute_result",
          "data": {
            "text/plain": [
              "('s', 't', 'r', 'i', 'n', 'g')"
            ]
          },
          "metadata": {},
          "execution_count": 99
        }
      ],
      "source": [
        "tup = tuple('string')\n",
        "tup"
      ]
    },
    {
      "cell_type": "markdown",
      "metadata": {
        "id": "ArYLGL76coth"
      },
      "source": [
        "Elements in a tuple can be accessed using the square-brackets.\n",
        "\n",
        "**Note:** The first element in the tuple is in position 0"
      ]
    },
    {
      "cell_type": "code",
      "execution_count": null,
      "metadata": {
        "colab": {
          "base_uri": "https://localhost:8080/",
          "height": 35
        },
        "id": "rjMPiWNXcoth",
        "outputId": "c8ad75af-4df2-4cac-b7d8-6843c565029e"
      },
      "outputs": [
        {
          "output_type": "execute_result",
          "data": {
            "text/plain": [
              "'s'"
            ],
            "application/vnd.google.colaboratory.intrinsic+json": {
              "type": "string"
            }
          },
          "metadata": {},
          "execution_count": 100
        }
      ],
      "source": [
        "tup[0]"
      ]
    },
    {
      "cell_type": "code",
      "execution_count": null,
      "metadata": {
        "colab": {
          "base_uri": "https://localhost:8080/"
        },
        "id": "R1nPk_hCcoth",
        "outputId": "50fc2a92-67b8-437e-f454-7a11eb63daed"
      },
      "outputs": [
        {
          "output_type": "stream",
          "name": "stdout",
          "text": [
            "((4, 5, 6), (7, 8))\n",
            "(4, 5, 6)\n",
            "(7, 8)\n"
          ]
        }
      ],
      "source": [
        "nested_tup = (4, 5, 6), (7, 8)\n",
        "print(nested_tup)\n",
        "print(nested_tup[0])\n",
        "print(nested_tup[1])"
      ]
    },
    {
      "cell_type": "code",
      "execution_count": null,
      "metadata": {
        "colab": {
          "base_uri": "https://localhost:8080/",
          "height": 159
        },
        "id": "9hYOsKnocoth",
        "outputId": "74205ddd-7e2b-4ee1-d960-72b3798d32d3"
      },
      "outputs": [
        {
          "output_type": "error",
          "ename": "TypeError",
          "evalue": "'tuple' object does not support item assignment",
          "traceback": [
            "\u001b[0;31m---------------------------------------------------------------------------\u001b[0m",
            "\u001b[0;31mTypeError\u001b[0m                                 Traceback (most recent call last)",
            "\u001b[0;32m<ipython-input-102-11b694945ab9>\u001b[0m in \u001b[0;36m<cell line: 2>\u001b[0;34m()\u001b[0m\n\u001b[1;32m      1\u001b[0m \u001b[0mtup\u001b[0m \u001b[0;34m=\u001b[0m \u001b[0mtuple\u001b[0m\u001b[0;34m(\u001b[0m\u001b[0;34m[\u001b[0m\u001b[0;34m'foo'\u001b[0m\u001b[0;34m,\u001b[0m \u001b[0;34m[\u001b[0m\u001b[0;36m1\u001b[0m\u001b[0;34m,\u001b[0m \u001b[0;36m2\u001b[0m\u001b[0;34m]\u001b[0m\u001b[0;34m,\u001b[0m \u001b[0;32mTrue\u001b[0m\u001b[0;34m]\u001b[0m\u001b[0;34m)\u001b[0m\u001b[0;34m\u001b[0m\u001b[0;34m\u001b[0m\u001b[0m\n\u001b[0;32m----> 2\u001b[0;31m \u001b[0mtup\u001b[0m\u001b[0;34m[\u001b[0m\u001b[0;36m2\u001b[0m\u001b[0;34m]\u001b[0m \u001b[0;34m=\u001b[0m \u001b[0;32mFalse\u001b[0m\u001b[0;34m\u001b[0m\u001b[0;34m\u001b[0m\u001b[0m\n\u001b[0m",
            "\u001b[0;31mTypeError\u001b[0m: 'tuple' object does not support item assignment"
          ]
        }
      ],
      "source": [
        "tup = tuple(['foo', [1, 2], True])\n",
        "tup[2] = False"
      ]
    },
    {
      "cell_type": "markdown",
      "metadata": {
        "id": "8mWcNZ_Acoth"
      },
      "source": [
        "In the above code, why did you receive an error?\n",
        "\n",
        "Why the code below is instead valid?"
      ]
    },
    {
      "cell_type": "code",
      "execution_count": null,
      "metadata": {
        "colab": {
          "base_uri": "https://localhost:8080/",
          "height": 159
        },
        "id": "na9XCHfdcoth",
        "outputId": "d658780d-2aa6-4923-c79d-48845e5e65c3"
      },
      "outputs": [
        {
          "output_type": "error",
          "ename": "AttributeError",
          "evalue": "'str' object has no attribute 'append'",
          "traceback": [
            "\u001b[0;31m---------------------------------------------------------------------------\u001b[0m",
            "\u001b[0;31mAttributeError\u001b[0m                            Traceback (most recent call last)",
            "\u001b[0;32m<ipython-input-116-8df41c71d9f3>\u001b[0m in \u001b[0;36m<cell line: 1>\u001b[0;34m()\u001b[0m\n\u001b[0;32m----> 1\u001b[0;31m \u001b[0mtup\u001b[0m\u001b[0;34m[\u001b[0m\u001b[0;36m1\u001b[0m\u001b[0;34m]\u001b[0m\u001b[0;34m.\u001b[0m\u001b[0mappend\u001b[0m\u001b[0;34m(\u001b[0m\u001b[0;36m3\u001b[0m\u001b[0;34m)\u001b[0m\u001b[0;34m\u001b[0m\u001b[0;34m\u001b[0m\u001b[0m\n\u001b[0m\u001b[1;32m      2\u001b[0m \u001b[0mtup\u001b[0m\u001b[0;34m\u001b[0m\u001b[0;34m\u001b[0m\u001b[0m\n",
            "\u001b[0;31mAttributeError\u001b[0m: 'str' object has no attribute 'append'"
          ]
        }
      ],
      "source": [
        "tup[1].append(3)\n",
        "tup"
      ]
    },
    {
      "cell_type": "markdown",
      "metadata": {
        "id": "X9uUXmyocoth"
      },
      "source": [
        "You can concatenate tuples with the ```+``` operator."
      ]
    },
    {
      "cell_type": "code",
      "execution_count": null,
      "metadata": {
        "colab": {
          "base_uri": "https://localhost:8080/"
        },
        "id": "-BSCVTgNcoth",
        "outputId": "169381ec-3892-4098-c377-407c342a5e46"
      },
      "outputs": [
        {
          "output_type": "execute_result",
          "data": {
            "text/plain": [
              "(4, None, 'foo', 6, 0, 'bar')"
            ]
          },
          "metadata": {},
          "execution_count": 103
        }
      ],
      "source": [
        "(4, None, 'foo') + (6, 0) + ('bar',)"
      ]
    },
    {
      "cell_type": "markdown",
      "metadata": {
        "id": "0xQZ16dYcoth"
      },
      "source": [
        "If ```+``` concatenates tuple, what would ```*``` do?\n",
        "\n",
        "_Hint_: think to the mathematical definition of ```*```"
      ]
    },
    {
      "cell_type": "code",
      "execution_count": null,
      "metadata": {
        "colab": {
          "base_uri": "https://localhost:8080/"
        },
        "id": "_BlfQLa0coth",
        "outputId": "5158bfdf-6793-4604-a23e-12e792ed9e47"
      },
      "outputs": [
        {
          "output_type": "execute_result",
          "data": {
            "text/plain": [
              "('foo', 'bar', 'foo', 'bar', 'foo', 'bar', 'foo', 'bar')"
            ]
          },
          "metadata": {},
          "execution_count": 104
        }
      ],
      "source": [
        "('foo', 'bar') * 4"
      ]
    },
    {
      "cell_type": "markdown",
      "metadata": {
        "id": "c_snSbq5coth"
      },
      "source": [
        "Elements in a tuple can be \"unrolled\" and saved into different variables."
      ]
    },
    {
      "cell_type": "code",
      "execution_count": null,
      "metadata": {
        "colab": {
          "base_uri": "https://localhost:8080/"
        },
        "id": "clXiCUY6coth",
        "outputId": "9c281b80-1b9f-4456-9be1-8ce90a172fed"
      },
      "outputs": [
        {
          "output_type": "execute_result",
          "data": {
            "text/plain": [
              "5"
            ]
          },
          "metadata": {},
          "execution_count": 105
        }
      ],
      "source": [
        "tup = (4, 5, 6)\n",
        "a, b, c = tup\n",
        "b"
      ]
    },
    {
      "cell_type": "code",
      "execution_count": null,
      "metadata": {
        "colab": {
          "base_uri": "https://localhost:8080/"
        },
        "id": "37PS35bOcoth",
        "outputId": "fc8dba10-70f0-4f02-84a4-21d69eb9e2b3"
      },
      "outputs": [
        {
          "output_type": "execute_result",
          "data": {
            "text/plain": [
              "7"
            ]
          },
          "metadata": {},
          "execution_count": 106
        }
      ],
      "source": [
        "tup = 4, 5, (6, 7)\n",
        "a, b, (c, d) = tup\n",
        "d"
      ]
    },
    {
      "cell_type": "code",
      "execution_count": null,
      "metadata": {
        "colab": {
          "base_uri": "https://localhost:8080/"
        },
        "id": "LNZXM68tcoth",
        "outputId": "627b6f4e-335f-43e2-bb60-be644d257a25"
      },
      "outputs": [
        {
          "output_type": "stream",
          "name": "stdout",
          "text": [
            "a:1\n",
            "b:2\n",
            "a:2\n",
            "b:1\n"
          ]
        }
      ],
      "source": [
        "a, b = 1, 2\n",
        "print(f\"a:{a}\")\n",
        "print(f\"b:{b}\")\n",
        "b, a = a, b\n",
        "print(f\"a:{a}\")\n",
        "print(f\"b:{b}\")"
      ]
    },
    {
      "cell_type": "markdown",
      "metadata": {
        "id": "3Iy5qTwBcoth"
      },
      "source": [
        "This \"unrolling\" capability combined with a for loop, offers a very easy way to read the values of a list of tuples."
      ]
    },
    {
      "cell_type": "code",
      "execution_count": null,
      "metadata": {
        "colab": {
          "base_uri": "https://localhost:8080/"
        },
        "id": "RwnB75Cncoth",
        "outputId": "723ba77d-215c-41d6-dacd-28bfacf7cebe"
      },
      "outputs": [
        {
          "output_type": "stream",
          "name": "stdout",
          "text": [
            "a=1, b=2, c=3\n",
            "a=4, b=5, c=6\n",
            "a=7, b=8, c=9\n"
          ]
        }
      ],
      "source": [
        "seq = [(1, 2, 3), (4, 5, 6), (7, 8, 9)]\n",
        "for a, b, c in seq:\n",
        "    print(f'a={a}, b={b}, c={c}')"
      ]
    },
    {
      "cell_type": "markdown",
      "metadata": {
        "id": "o5lXJbImcoth"
      },
      "source": [
        "If you are not interested to save all the values of a tuple after a certain point, the variable ```*var_name``` is very useful."
      ]
    },
    {
      "cell_type": "code",
      "execution_count": null,
      "metadata": {
        "colab": {
          "base_uri": "https://localhost:8080/"
        },
        "id": "uslPoKtBcoth",
        "outputId": "65daf32d-7b62-4291-a96e-b4cf3f630caa"
      },
      "outputs": [
        {
          "output_type": "stream",
          "name": "stdout",
          "text": [
            "1\n",
            "2\n",
            "[3, 4, 5]\n"
          ]
        }
      ],
      "source": [
        "values = 1, 2, 3, 4, 5\n",
        "a, b, *rest = values\n",
        "print(a)\n",
        "print(b)\n",
        "print(rest)"
      ]
    },
    {
      "cell_type": "code",
      "execution_count": null,
      "metadata": {
        "colab": {
          "base_uri": "https://localhost:8080/"
        },
        "id": "crJePrZNcoth",
        "outputId": "220346fe-0a25-45ff-ee68-78ad5439db00"
      },
      "outputs": [
        {
          "output_type": "execute_result",
          "data": {
            "text/plain": [
              "[3, 4, 5]"
            ]
          },
          "metadata": {},
          "execution_count": 110
        }
      ],
      "source": [
        "a, b, *_ = values\n",
        "_"
      ]
    },
    {
      "cell_type": "markdown",
      "metadata": {
        "id": "M7eI0xQacoth"
      },
      "source": [
        "**Interesting function of the session** ... what does ```count``` do?"
      ]
    },
    {
      "cell_type": "code",
      "execution_count": null,
      "metadata": {
        "colab": {
          "base_uri": "https://localhost:8080/"
        },
        "id": "uBq37ppucoth",
        "outputId": "d93aed74-3e44-436c-9fdb-c803781fa02e"
      },
      "outputs": [
        {
          "output_type": "execute_result",
          "data": {
            "text/plain": [
              "4"
            ]
          },
          "metadata": {},
          "execution_count": 111
        }
      ],
      "source": [
        "a = (1, 2, 2, 2, 3, 4, 2)\n",
        "a.count(2)"
      ]
    },
    {
      "cell_type": "markdown",
      "metadata": {
        "tags": [],
        "id": "v6NqVoQhcoth"
      },
      "source": [
        "### Lists\n",
        "\n",
        "As opposed to tuples list are _mutable_ objects, i.e., the items inside a list can change over the time.\n",
        "Converting a tuple to a list is, therefore, a way to ensure that we can update the tuple's elements."
      ]
    },
    {
      "cell_type": "code",
      "execution_count": null,
      "metadata": {
        "colab": {
          "base_uri": "https://localhost:8080/"
        },
        "id": "3ufNvcgdcoti",
        "outputId": "93bda5f8-2715-4819-e67a-f63271c33a68"
      },
      "outputs": [
        {
          "output_type": "stream",
          "name": "stdout",
          "text": [
            "['foo', 'bar', 'baz']\n",
            "['foo', 'peekaboo', 'baz']\n"
          ]
        }
      ],
      "source": [
        "tup = (\"foo\", \"bar\", \"baz\")\n",
        "b_list = list(tup)\n",
        "print(b_list)\n",
        "b_list[1] = \"peekaboo\"\n",
        "print(b_list)"
      ]
    },
    {
      "cell_type": "markdown",
      "metadata": {
        "id": "8InvNzMlcoti"
      },
      "source": [
        "The ```range``` function we have already seen, iterates numbers in a certain range."
      ]
    },
    {
      "cell_type": "code",
      "execution_count": null,
      "metadata": {
        "colab": {
          "base_uri": "https://localhost:8080/"
        },
        "id": "5HKf3zygcoti",
        "outputId": "b3d4d727-7d79-4ff3-cc32-dba069b2741d"
      },
      "outputs": [
        {
          "output_type": "stream",
          "name": "stdout",
          "text": [
            "range(0, 10)\n"
          ]
        },
        {
          "output_type": "execute_result",
          "data": {
            "text/plain": [
              "[0, 1, 2, 3, 4, 5, 6, 7, 8, 9]"
            ]
          },
          "metadata": {},
          "execution_count": 113
        }
      ],
      "source": [
        "gen = range(10)\n",
        "print(gen) # Note that gen is not a list!\n",
        "list(gen)"
      ]
    },
    {
      "cell_type": "markdown",
      "metadata": {
        "id": "tnhv7CiCcoti"
      },
      "source": [
        "Range is a useful function (we will see the equivalent in numpy), try to check the documentation with the syntax\n",
        "\n",
        "```python\n",
        "range?\n",
        "```"
      ]
    },
    {
      "cell_type": "code",
      "execution_count": null,
      "metadata": {
        "id": "oK6vCN3Ecoti"
      },
      "outputs": [],
      "source": [
        "range?"
      ]
    },
    {
      "cell_type": "markdown",
      "metadata": {
        "id": "gWYtbSvScoti"
      },
      "source": [
        "#### Modifying and searching a list\n",
        "\n",
        "We can add elements to a list, using the function ```append```."
      ]
    },
    {
      "cell_type": "code",
      "execution_count": null,
      "metadata": {
        "colab": {
          "base_uri": "https://localhost:8080/"
        },
        "id": "OvKfGqpecoti",
        "outputId": "ac91c039-eddd-4238-d76b-c69b19ad2a48"
      },
      "outputs": [
        {
          "output_type": "execute_result",
          "data": {
            "text/plain": [
              "['foo', 'peekaboo', 'baz', 'dwarf']"
            ]
          },
          "metadata": {},
          "execution_count": 115
        }
      ],
      "source": [
        "b_list.append(\"dwarf\")\n",
        "b_list"
      ]
    },
    {
      "cell_type": "markdown",
      "metadata": {
        "id": "cLGO9RoKcoti"
      },
      "source": [
        "The ```.``` before ```append``` is a special character to call _methods_ (i.e., functions) of a specific _class_.  You can see all the methods using ```b_list.<tab>```"
      ]
    },
    {
      "cell_type": "markdown",
      "metadata": {
        "id": "0A6d4wDecoti"
      },
      "source": [
        "Other common operations for a list is insertion of an element at a specific position."
      ]
    },
    {
      "cell_type": "code",
      "execution_count": null,
      "metadata": {
        "colab": {
          "base_uri": "https://localhost:8080/"
        },
        "id": "u9_KpaaUcoti",
        "outputId": "38445c4c-ad77-42a2-e4c2-f01f0482111a"
      },
      "outputs": [
        {
          "output_type": "execute_result",
          "data": {
            "text/plain": [
              "['foo', 'red', 'peekaboo', 'baz', 'dwarf']"
            ]
          },
          "metadata": {},
          "execution_count": 117
        }
      ],
      "source": [
        "b_list.insert(1, \"red\")\n",
        "b_list"
      ]
    },
    {
      "cell_type": "markdown",
      "metadata": {
        "id": "0eZ6HWM9coti"
      },
      "source": [
        "... and deletion of an element at a specific position"
      ]
    },
    {
      "cell_type": "code",
      "execution_count": null,
      "metadata": {
        "colab": {
          "base_uri": "https://localhost:8080/"
        },
        "id": "n4Ir2Circoti",
        "outputId": "20135f91-901d-4448-cc6d-6072e7143914"
      },
      "outputs": [
        {
          "output_type": "execute_result",
          "data": {
            "text/plain": [
              "['foo', 'red', 'baz', 'dwarf']"
            ]
          },
          "metadata": {},
          "execution_count": 118
        }
      ],
      "source": [
        "b_list.pop(2)\n",
        "b_list"
      ]
    },
    {
      "cell_type": "markdown",
      "metadata": {
        "id": "Cyok8GJkcoti"
      },
      "source": [
        "```remove``` removes an element from a list. However, **it needs to scan the entire list in order to find the element!**"
      ]
    },
    {
      "cell_type": "code",
      "execution_count": null,
      "metadata": {
        "colab": {
          "base_uri": "https://localhost:8080/"
        },
        "id": "nC_a9xVLcoti",
        "outputId": "b5a4aed7-06d6-485b-fb88-28eed74be1ee"
      },
      "outputs": [
        {
          "output_type": "stream",
          "name": "stdout",
          "text": [
            "['foo', 'red', 'baz', 'dwarf', 'foo']\n",
            "['red', 'baz', 'dwarf', 'foo']\n"
          ]
        }
      ],
      "source": [
        "b_list.append(\"foo\")\n",
        "print(b_list)\n",
        "b_list.remove(\"foo\")\n",
        "print(b_list)"
      ]
    },
    {
      "cell_type": "markdown",
      "metadata": {
        "id": "LE04tt3qcoti"
      },
      "source": [
        "#### List operations\n",
        "\n",
        "Checking if an element is in a list"
      ]
    },
    {
      "cell_type": "code",
      "execution_count": null,
      "metadata": {
        "colab": {
          "base_uri": "https://localhost:8080/"
        },
        "id": "s_GTTbkqcoti",
        "outputId": "cd5b428f-938f-43f3-dee3-5307d64990a3"
      },
      "outputs": [
        {
          "output_type": "execute_result",
          "data": {
            "text/plain": [
              "True"
            ]
          },
          "metadata": {},
          "execution_count": 120
        }
      ],
      "source": [
        "\"dwarf\" in b_list"
      ]
    },
    {
      "cell_type": "code",
      "execution_count": null,
      "metadata": {
        "colab": {
          "base_uri": "https://localhost:8080/"
        },
        "id": "h8sJcsHfcoti",
        "outputId": "a234b7f1-1f83-460b-b393-3e5d932b6699"
      },
      "outputs": [
        {
          "output_type": "execute_result",
          "data": {
            "text/plain": [
              "False"
            ]
          },
          "metadata": {},
          "execution_count": 121
        }
      ],
      "source": [
        "\"dwarf\" not in b_list"
      ]
    },
    {
      "cell_type": "markdown",
      "metadata": {
        "id": "zPqwhrd6coti"
      },
      "source": [
        "Concatenate two lists with +"
      ]
    },
    {
      "cell_type": "code",
      "execution_count": null,
      "metadata": {
        "colab": {
          "base_uri": "https://localhost:8080/"
        },
        "id": "6t3CS6IEcoti",
        "outputId": "92ff7077-7a0c-4f2a-ff5e-c72a0b439ed8"
      },
      "outputs": [
        {
          "output_type": "execute_result",
          "data": {
            "text/plain": [
              "[4, None, 'foo', 7, 8, (2, 3)]"
            ]
          },
          "metadata": {},
          "execution_count": 122
        }
      ],
      "source": [
        "[4, None, \"foo\"] + [7, 8, (2, 3)]"
      ]
    },
    {
      "cell_type": "markdown",
      "metadata": {
        "id": "M2HlGUGicoti"
      },
      "source": [
        "or use ```extend``` to concatenate"
      ]
    },
    {
      "cell_type": "code",
      "execution_count": null,
      "metadata": {
        "colab": {
          "base_uri": "https://localhost:8080/"
        },
        "id": "swEDvCU7coti",
        "outputId": "249fa509-3c77-4ec4-a755-be26748ae044"
      },
      "outputs": [
        {
          "output_type": "execute_result",
          "data": {
            "text/plain": [
              "[4, None, 'foo', 7, 8, (2, 3)]"
            ]
          },
          "metadata": {},
          "execution_count": 123
        }
      ],
      "source": [
        "x = [4, None, \"foo\"]\n",
        "x.extend([7, 8, (2, 3)])\n",
        "x"
      ]
    },
    {
      "cell_type": "markdown",
      "metadata": {
        "id": "gTBXUs4jcoti"
      },
      "source": [
        "Sorting a list"
      ]
    },
    {
      "cell_type": "code",
      "execution_count": null,
      "metadata": {
        "colab": {
          "base_uri": "https://localhost:8080/"
        },
        "id": "qDYNml3mcoti",
        "outputId": "3a87178a-c5e0-42d8-eaa8-ad27f12395ce"
      },
      "outputs": [
        {
          "output_type": "execute_result",
          "data": {
            "text/plain": [
              "[1, 2, 3, 5, 7]"
            ]
          },
          "metadata": {},
          "execution_count": 124
        }
      ],
      "source": [
        "a = [7, 2, 5, 1, 3]\n",
        "a.sort()\n",
        "a"
      ]
    },
    {
      "cell_type": "code",
      "execution_count": null,
      "metadata": {
        "colab": {
          "base_uri": "https://localhost:8080/"
        },
        "id": "zBnIsaR2coti",
        "outputId": "b2ce3787-b195-44f4-e919-9f6c8edba9c8"
      },
      "outputs": [
        {
          "output_type": "execute_result",
          "data": {
            "text/plain": [
              "['He', 'saw', 'six', 'small', 'foxes']"
            ]
          },
          "metadata": {},
          "execution_count": 125
        }
      ],
      "source": [
        "b = [\"saw\", \"small\", \"He\", \"foxes\", \"six\"]\n",
        "b.sort(key=len)\n",
        "b"
      ]
    },
    {
      "cell_type": "markdown",
      "metadata": {
        "id": "jBiMd7a9coti"
      },
      "source": [
        "#### Slicing\n",
        "\n",
        "Slicing is a powerful Python operation that allows to return a sub-list from a certain position to another using"
      ]
    },
    {
      "cell_type": "code",
      "execution_count": null,
      "metadata": {
        "colab": {
          "base_uri": "https://localhost:8080/"
        },
        "id": "RUDnxRwccoti",
        "outputId": "a728c844-1159-4972-ce62-5ac345815f7d"
      },
      "outputs": [
        {
          "output_type": "execute_result",
          "data": {
            "text/plain": [
              "[2, 3, 7, 5]"
            ]
          },
          "metadata": {},
          "execution_count": 126
        }
      ],
      "source": [
        "seq = [7, 2, 3, 7, 5, 6, 0, 1]\n",
        "# From position 1 included to position 5 excluded (recall that the positions start from 0)\n",
        "seq[1:5]"
      ]
    },
    {
      "cell_type": "code",
      "execution_count": null,
      "metadata": {
        "colab": {
          "base_uri": "https://localhost:8080/"
        },
        "id": "X_fpUQupcoti",
        "outputId": "3aac8594-b5a6-4891-9823-f07a1faa03a1"
      },
      "outputs": [
        {
          "output_type": "execute_result",
          "data": {
            "text/plain": [
              "[7, 2, 3, 6, 3, 6, 0, 1]"
            ]
          },
          "metadata": {},
          "execution_count": 127
        }
      ],
      "source": [
        "seq[3:5] = [6, 3] # Modify a part of a list\n",
        "seq"
      ]
    },
    {
      "cell_type": "code",
      "execution_count": null,
      "metadata": {
        "colab": {
          "base_uri": "https://localhost:8080/"
        },
        "id": "YwANihbecotj",
        "outputId": "f3c646fc-b18a-414a-9516-426f2619075d"
      },
      "outputs": [
        {
          "output_type": "execute_result",
          "data": {
            "text/plain": [
              "[7, 2, 3, 6, 3]"
            ]
          },
          "metadata": {},
          "execution_count": 128
        }
      ],
      "source": [
        "seq[:5] # From beginning to position 5"
      ]
    },
    {
      "cell_type": "code",
      "execution_count": null,
      "metadata": {
        "colab": {
          "base_uri": "https://localhost:8080/"
        },
        "id": "XWL5AtMXcotj",
        "outputId": "4c08f117-b410-4ab1-f016-44387f9495d0"
      },
      "outputs": [
        {
          "output_type": "execute_result",
          "data": {
            "text/plain": [
              "[6, 3, 6, 0, 1]"
            ]
          },
          "metadata": {},
          "execution_count": 129
        }
      ],
      "source": [
        "seq[3:] # From position 3 until the end"
      ]
    },
    {
      "cell_type": "markdown",
      "metadata": {
        "id": "hlPeE183cotj"
      },
      "source": [
        "Negative indexes in slicing indicate starting from the end of the list."
      ]
    },
    {
      "cell_type": "code",
      "execution_count": null,
      "metadata": {
        "colab": {
          "base_uri": "https://localhost:8080/"
        },
        "id": "U_n_ZrPRcotj",
        "outputId": "a20d94fa-e2c0-45d9-efbb-e32389a6a3a2"
      },
      "outputs": [
        {
          "output_type": "execute_result",
          "data": {
            "text/plain": [
              "[3, 6, 0, 1]"
            ]
          },
          "metadata": {},
          "execution_count": 130
        }
      ],
      "source": [
        "seq[-4:]"
      ]
    },
    {
      "cell_type": "code",
      "execution_count": null,
      "metadata": {
        "colab": {
          "base_uri": "https://localhost:8080/"
        },
        "id": "auElDw9ocotj",
        "outputId": "b1478ecb-cc38-4c88-8ba2-77da7ea5ed90"
      },
      "outputs": [
        {
          "output_type": "execute_result",
          "data": {
            "text/plain": [
              "[3, 6, 3, 6]"
            ]
          },
          "metadata": {},
          "execution_count": 131
        }
      ],
      "source": [
        "seq[-6:-2]"
      ]
    },
    {
      "cell_type": "markdown",
      "metadata": {
        "id": "Uq_kFSoVcotj"
      },
      "source": [
        "The ::x instead indicates to return the value in steps of x elements."
      ]
    },
    {
      "cell_type": "code",
      "execution_count": null,
      "metadata": {
        "colab": {
          "base_uri": "https://localhost:8080/"
        },
        "id": "BpQjOlA9cotj",
        "outputId": "4024f4e9-67f4-4b03-cebc-1b29f78c085c"
      },
      "outputs": [
        {
          "output_type": "execute_result",
          "data": {
            "text/plain": [
              "[7, 3, 3, 0]"
            ]
          },
          "metadata": {},
          "execution_count": 132
        }
      ],
      "source": [
        "seq[::2]"
      ]
    },
    {
      "cell_type": "markdown",
      "metadata": {
        "id": "I2NXwdq6cotj"
      },
      "source": [
        "What does the syntax below do?"
      ]
    },
    {
      "cell_type": "code",
      "execution_count": null,
      "metadata": {
        "colab": {
          "base_uri": "https://localhost:8080/"
        },
        "id": "sMci_shncotj",
        "outputId": "1bce8853-c1dc-42c5-c6be-bffd2ec1833f"
      },
      "outputs": [
        {
          "output_type": "execute_result",
          "data": {
            "text/plain": [
              "[1, 0, 6, 3, 6, 3, 2, 7]"
            ]
          },
          "metadata": {},
          "execution_count": 133
        }
      ],
      "source": [
        "seq[::-1] # Negative step goes backward ;)"
      ]
    },
    {
      "cell_type": "markdown",
      "metadata": {
        "tags": [],
        "id": "RwhFn82Wcotj"
      },
      "source": [
        "### Dictionaries\n",
        "\n",
        "Dictionaries contain key,value pairs. That means that an object _value_ in a dictionary can be found with its key. Think of a dictionary like an easy way to find any object.\n",
        "A dictionary is created and populated in this way."
      ]
    },
    {
      "cell_type": "code",
      "execution_count": null,
      "metadata": {
        "colab": {
          "base_uri": "https://localhost:8080/"
        },
        "id": "LzKSiZJfcotj",
        "outputId": "1926705f-dac2-46ac-9e35-fbaec80cac80"
      },
      "outputs": [
        {
          "output_type": "execute_result",
          "data": {
            "text/plain": [
              "{'a': 'some value', 'b': [1, 2, 3, 4]}"
            ]
          },
          "metadata": {},
          "execution_count": 134
        }
      ],
      "source": [
        "empty_dict = {}\n",
        "d1 = {\"a\": \"some value\", \"b\": [1, 2, 3, 4]}\n",
        "d1"
      ]
    },
    {
      "cell_type": "markdown",
      "metadata": {
        "id": "5nVXZvLXcotj"
      },
      "source": [
        "Dictionaries are _mutable_ objects, in which the content can be changed."
      ]
    },
    {
      "cell_type": "code",
      "execution_count": null,
      "metadata": {
        "colab": {
          "base_uri": "https://localhost:8080/"
        },
        "id": "3wqP1GPBcotj",
        "outputId": "8fed2c02-3918-4fc2-978f-1256c80c579d"
      },
      "outputs": [
        {
          "output_type": "stream",
          "name": "stdout",
          "text": [
            "{'a': 'some value', 'b': [1, 2, 3, 4], 7: 'an integer'}\n"
          ]
        }
      ],
      "source": [
        "d1[7] = \"an integer\" #NOTE: this is not position 7 as in lists! 7 is a key for the string \"an integer\"\n",
        "print(d1)"
      ]
    },
    {
      "cell_type": "code",
      "execution_count": null,
      "metadata": {
        "colab": {
          "base_uri": "https://localhost:8080/"
        },
        "id": "u8MfA3aqcotj",
        "outputId": "0d950a25-4e2c-470b-f082-7c89b51a75bb"
      },
      "outputs": [
        {
          "output_type": "execute_result",
          "data": {
            "text/plain": [
              "[1, 2, 3, 4]"
            ]
          },
          "metadata": {},
          "execution_count": 136
        }
      ],
      "source": [
        "d1[\"b\"] # This return the value with key \"b\""
      ]
    },
    {
      "cell_type": "markdown",
      "metadata": {
        "id": "JTIbRqsGcotj"
      },
      "source": [
        "#### Dictionary operations\n",
        "The ```in``` keyword is used for checking whether a dictionary contains a certain key"
      ]
    },
    {
      "cell_type": "code",
      "execution_count": null,
      "metadata": {
        "colab": {
          "base_uri": "https://localhost:8080/"
        },
        "id": "Bj0LAwMZcotj",
        "outputId": "8760d7e4-6dbf-425b-9891-e3019725e90a"
      },
      "outputs": [
        {
          "output_type": "execute_result",
          "data": {
            "text/plain": [
              "True"
            ]
          },
          "metadata": {},
          "execution_count": 137
        }
      ],
      "source": [
        "\"b\" in d1"
      ]
    },
    {
      "cell_type": "markdown",
      "metadata": {
        "id": "O0iICcAlcotj"
      },
      "source": [
        "```del``` deletes a specific element, ```pop``` deletes the element and returns the value."
      ]
    },
    {
      "cell_type": "code",
      "execution_count": null,
      "metadata": {
        "colab": {
          "base_uri": "https://localhost:8080/"
        },
        "id": "Dt89o-dQcotj",
        "outputId": "9926a269-acc7-4811-eb53-f3c823200b84"
      },
      "outputs": [
        {
          "output_type": "stream",
          "name": "stdout",
          "text": [
            "{'a': 'some value', 'b': [1, 2, 3, 4], 7: 'an integer', 5: 'some value'}\n",
            "{'a': 'some value', 'b': [1, 2, 3, 4], 7: 'an integer', 5: 'some value', 'dummy': 'another value'}\n",
            "{'a': 'some value', 'b': [1, 2, 3, 4], 7: 'an integer', 'dummy': 'another value'}\n",
            "another value\n",
            "{'a': 'some value', 'b': [1, 2, 3, 4], 7: 'an integer'}\n"
          ]
        }
      ],
      "source": [
        "d1[5] = \"some value\"\n",
        "print(d1)\n",
        "d1[\"dummy\"] = \"another value\"\n",
        "print(d1)\n",
        "del d1[5]\n",
        "print(d1)\n",
        "ret = d1.pop(\"dummy\")\n",
        "print(ret)\n",
        "print(d1)"
      ]
    },
    {
      "cell_type": "markdown",
      "metadata": {
        "id": "9BPEOok1cotj"
      },
      "source": [
        "Accessing the list of keys and the list of values"
      ]
    },
    {
      "cell_type": "code",
      "execution_count": null,
      "metadata": {
        "colab": {
          "base_uri": "https://localhost:8080/"
        },
        "id": "eS-1Gl8ecotj",
        "outputId": "e20442b6-7217-4665-bc15-7959a8d6ba72"
      },
      "outputs": [
        {
          "output_type": "stream",
          "name": "stdout",
          "text": [
            "['a', 'b', 7]\n",
            "['some value', [1, 2, 3, 4], 'an integer']\n"
          ]
        }
      ],
      "source": [
        "print(list(d1.keys()))\n",
        "print(list(d1.values()))"
      ]
    },
    {
      "cell_type": "markdown",
      "metadata": {
        "id": "tPcBQIpocotj"
      },
      "source": [
        "Accessing the pairs of items."
      ]
    },
    {
      "cell_type": "code",
      "execution_count": null,
      "metadata": {
        "colab": {
          "base_uri": "https://localhost:8080/"
        },
        "id": "vr8IIHJ1cotj",
        "outputId": "6643a639-e511-40c7-e954-6f84c9d3cefb"
      },
      "outputs": [
        {
          "output_type": "execute_result",
          "data": {
            "text/plain": [
              "[('a', 'some value'), ('b', [1, 2, 3, 4]), (7, 'an integer')]"
            ]
          },
          "metadata": {},
          "execution_count": 140
        }
      ],
      "source": [
        "list(d1.items())"
      ]
    },
    {
      "cell_type": "markdown",
      "metadata": {
        "id": "UVTDEtrGcotj"
      },
      "source": [
        "Update the values of a dictionary"
      ]
    },
    {
      "cell_type": "code",
      "execution_count": null,
      "metadata": {
        "colab": {
          "base_uri": "https://localhost:8080/"
        },
        "id": "MQbECRIScotj",
        "outputId": "3cae652c-f601-4790-f37c-8ce96e33e0f0"
      },
      "outputs": [
        {
          "output_type": "execute_result",
          "data": {
            "text/plain": [
              "{'a': 'some value', 'b': 'foo', 7: 'an integer', 'c': 12}"
            ]
          },
          "metadata": {},
          "execution_count": 141
        }
      ],
      "source": [
        "d1.update({\"b\": \"foo\", \"c\": 12})\n",
        "d1"
      ]
    },
    {
      "cell_type": "markdown",
      "metadata": {
        "id": "RfYuw40dcotj"
      },
      "source": [
        "_What happens if you update a key that does not exist?_"
      ]
    },
    {
      "cell_type": "markdown",
      "metadata": {
        "id": "YoW90IkWcotj"
      },
      "source": [
        "#### Useful operations with dictionaries"
      ]
    },
    {
      "cell_type": "code",
      "execution_count": null,
      "metadata": {
        "colab": {
          "base_uri": "https://localhost:8080/"
        },
        "id": "HNIUczTbcotj",
        "outputId": "f01e939f-5f00-4053-f6ca-3111bffc88a8"
      },
      "outputs": [
        {
          "output_type": "stream",
          "name": "stdout",
          "text": [
            "<zip object at 0x7df3d43b6200>\n",
            "{0: 4, 1: 3, 2: 2, 3: 1, 4: 0}\n"
          ]
        }
      ],
      "source": [
        "tuples = zip(range(5), reversed(range(5)))\n",
        "print(tuples)\n",
        "mapping = dict(tuples)\n",
        "print(mapping)"
      ]
    },
    {
      "cell_type": "code",
      "execution_count": null,
      "metadata": {
        "colab": {
          "base_uri": "https://localhost:8080/"
        },
        "id": "PjkoUZhPcotk",
        "outputId": "f4c0bc12-e2d6-474f-e040-ae0a2fa26cfb"
      },
      "outputs": [
        {
          "output_type": "execute_result",
          "data": {
            "text/plain": [
              "{'a': ['apple', 'atom'], 'b': ['bat', 'bar', 'book']}"
            ]
          },
          "metadata": {},
          "execution_count": 143
        }
      ],
      "source": [
        "words = [\"apple\", \"bat\", \"bar\", \"atom\", \"book\"]\n",
        "by_letter = {}\n",
        "\n",
        "for word in words:\n",
        "    letter = word[0]\n",
        "    if letter not in by_letter:\n",
        "        by_letter[letter] = [word]\n",
        "    else:\n",
        "        by_letter[letter].append(word)\n",
        "\n",
        "by_letter"
      ]
    },
    {
      "cell_type": "markdown",
      "metadata": {
        "id": "s6NULa_Hcotk"
      },
      "source": [
        "```setdefault``` function allows to change the values of a key or create a new value if the key does not exists."
      ]
    },
    {
      "cell_type": "code",
      "execution_count": null,
      "metadata": {
        "colab": {
          "base_uri": "https://localhost:8080/"
        },
        "id": "05ar_pWUcotk",
        "outputId": "daa58762-580f-43a8-de44-d142538baeba"
      },
      "outputs": [
        {
          "output_type": "execute_result",
          "data": {
            "text/plain": [
              "{'a': ['apple', 'atom'], 'b': ['bat', 'bar', 'book']}"
            ]
          },
          "metadata": {},
          "execution_count": 144
        }
      ],
      "source": [
        "by_letter = {}\n",
        "for word in words:\n",
        "    letter = word[0]\n",
        "    by_letter.setdefault(letter, []).append(word)\n",
        "by_letter"
      ]
    },
    {
      "cell_type": "markdown",
      "metadata": {
        "id": "juiK0qdhcotk"
      },
      "source": [
        "Similarly, one can use the defaultdict from module collections"
      ]
    },
    {
      "cell_type": "code",
      "execution_count": null,
      "metadata": {
        "id": "_BRi5ZAzcotk"
      },
      "outputs": [],
      "source": [
        "from collections import defaultdict\n",
        "by_letter = defaultdict(list)\n",
        "for word in words:\n",
        "    by_letter[word[0]].append(word)"
      ]
    },
    {
      "cell_type": "markdown",
      "metadata": {
        "id": "DPoEGLWJcotk"
      },
      "source": [
        "The _keys_ of a dictionary must be immutable objects!\n",
        "\n",
        "For an immutable object it is possible to compute its hash value, that is a alphanumeric code that \"uniquely\" represent an object."
      ]
    },
    {
      "cell_type": "code",
      "execution_count": null,
      "metadata": {
        "colab": {
          "base_uri": "https://localhost:8080/",
          "height": 176
        },
        "id": "KQELWnLqcotk",
        "outputId": "32585d78-7f14-447d-a389-ad95af3f2ddb"
      },
      "outputs": [
        {
          "output_type": "error",
          "ename": "TypeError",
          "evalue": "unhashable type: 'list'",
          "traceback": [
            "\u001b[0;31m---------------------------------------------------------------------------\u001b[0m",
            "\u001b[0;31mTypeError\u001b[0m                                 Traceback (most recent call last)",
            "\u001b[0;32m<ipython-input-146-e60485e61f88>\u001b[0m in \u001b[0;36m<cell line: 3>\u001b[0;34m()\u001b[0m\n\u001b[1;32m      1\u001b[0m \u001b[0mhash\u001b[0m\u001b[0;34m(\u001b[0m\u001b[0;34m\"string\"\u001b[0m\u001b[0;34m)\u001b[0m\u001b[0;34m\u001b[0m\u001b[0;34m\u001b[0m\u001b[0m\n\u001b[1;32m      2\u001b[0m \u001b[0mhash\u001b[0m\u001b[0;34m(\u001b[0m\u001b[0;34m(\u001b[0m\u001b[0;36m1\u001b[0m\u001b[0;34m,\u001b[0m \u001b[0;36m2\u001b[0m\u001b[0;34m,\u001b[0m \u001b[0;34m(\u001b[0m\u001b[0;36m2\u001b[0m\u001b[0;34m,\u001b[0m \u001b[0;36m3\u001b[0m\u001b[0;34m)\u001b[0m\u001b[0;34m)\u001b[0m\u001b[0;34m)\u001b[0m\u001b[0;34m\u001b[0m\u001b[0;34m\u001b[0m\u001b[0m\n\u001b[0;32m----> 3\u001b[0;31m \u001b[0mhash\u001b[0m\u001b[0;34m(\u001b[0m\u001b[0;34m(\u001b[0m\u001b[0;36m1\u001b[0m\u001b[0;34m,\u001b[0m \u001b[0;36m2\u001b[0m\u001b[0;34m,\u001b[0m \u001b[0;34m[\u001b[0m\u001b[0;36m2\u001b[0m\u001b[0;34m,\u001b[0m \u001b[0;36m3\u001b[0m\u001b[0;34m]\u001b[0m\u001b[0;34m)\u001b[0m\u001b[0;34m)\u001b[0m \u001b[0;31m# fails because lists are mutable\u001b[0m\u001b[0;34m\u001b[0m\u001b[0;34m\u001b[0m\u001b[0m\n\u001b[0m",
            "\u001b[0;31mTypeError\u001b[0m: unhashable type: 'list'"
          ]
        }
      ],
      "source": [
        "hash(\"string\")\n",
        "hash((1, 2, (2, 3)))\n",
        "hash((1, 2, [2, 3])) # fails because lists are mutable"
      ]
    },
    {
      "cell_type": "code",
      "execution_count": null,
      "metadata": {
        "colab": {
          "base_uri": "https://localhost:8080/"
        },
        "id": "7XKgPNK9cotk",
        "outputId": "45b6dde2-9aa0-4c6d-864f-9a690fe86dc7"
      },
      "outputs": [
        {
          "output_type": "execute_result",
          "data": {
            "text/plain": [
              "{(1, 2, 3): 5}"
            ]
          },
          "metadata": {},
          "execution_count": 147
        }
      ],
      "source": [
        "d = {}\n",
        "d[tuple([1, 2, 3])] = 5\n",
        "d"
      ]
    },
    {
      "cell_type": "markdown",
      "metadata": {
        "tags": [],
        "id": "KvNW5szscotk"
      },
      "source": [
        "### Sets\n",
        "\n",
        "Sets are _mutable_ objects that contain non-repeated objects.  "
      ]
    },
    {
      "cell_type": "code",
      "execution_count": null,
      "metadata": {
        "colab": {
          "base_uri": "https://localhost:8080/"
        },
        "id": "ofWxtZsvcotk",
        "outputId": "ced3c8fd-c8e6-4605-aeee-46dde50c104d"
      },
      "outputs": [
        {
          "output_type": "execute_result",
          "data": {
            "text/plain": [
              "{1, 2, 3}"
            ]
          },
          "metadata": {},
          "execution_count": 148
        }
      ],
      "source": [
        "set([2, 2, 2, 1, 3, 3])"
      ]
    },
    {
      "cell_type": "code",
      "execution_count": null,
      "metadata": {
        "colab": {
          "base_uri": "https://localhost:8080/"
        },
        "id": "FXmR9JD1cotk",
        "outputId": "0c5a8342-d4c5-40e0-9d9e-f91c26c90a53"
      },
      "outputs": [
        {
          "output_type": "execute_result",
          "data": {
            "text/plain": [
              "{1, 2, 3}"
            ]
          },
          "metadata": {},
          "execution_count": 149
        }
      ],
      "source": [
        "{2, 2, 2, 1, 3, 3} # Alternative syntax"
      ]
    },
    {
      "cell_type": "code",
      "execution_count": null,
      "metadata": {
        "id": "vVtGaGHvcotk"
      },
      "outputs": [],
      "source": [
        "a = {1, 2, 3, 4, 5}\n",
        "b = {3, 4, 5, 6, 7, 8}"
      ]
    },
    {
      "cell_type": "markdown",
      "metadata": {
        "id": "flNgkGMhcotk"
      },
      "source": [
        "#### Set operations\n",
        "\n",
        "Sets are useful to perform set operations, such as ```union```"
      ]
    },
    {
      "cell_type": "code",
      "execution_count": null,
      "metadata": {
        "colab": {
          "base_uri": "https://localhost:8080/"
        },
        "id": "K1VZKTX8cotk",
        "outputId": "b5d92de2-eb6e-47ad-e3df-c893b04e13b4"
      },
      "outputs": [
        {
          "output_type": "execute_result",
          "data": {
            "text/plain": [
              "{1, 2, 3, 4, 5, 6, 7, 8}"
            ]
          },
          "metadata": {},
          "execution_count": 151
        }
      ],
      "source": [
        "a.union(b)\n",
        "a | b"
      ]
    },
    {
      "cell_type": "markdown",
      "metadata": {
        "id": "Nn47JOgacotk"
      },
      "source": [
        "intersection"
      ]
    },
    {
      "cell_type": "code",
      "execution_count": null,
      "metadata": {
        "colab": {
          "base_uri": "https://localhost:8080/"
        },
        "id": "rkDX1j2Scotk",
        "outputId": "fa66d29c-5b7a-48c8-9bf6-bfc2b63cbe90"
      },
      "outputs": [
        {
          "output_type": "execute_result",
          "data": {
            "text/plain": [
              "{3, 4, 5}"
            ]
          },
          "metadata": {},
          "execution_count": 152
        }
      ],
      "source": [
        "a.intersection(b)\n",
        "a & b"
      ]
    },
    {
      "cell_type": "markdown",
      "metadata": {
        "id": "uM7mblt8cotk"
      },
      "source": [
        "Combined union and update"
      ]
    },
    {
      "cell_type": "code",
      "execution_count": null,
      "metadata": {
        "colab": {
          "base_uri": "https://localhost:8080/"
        },
        "id": "N031U0lZcotk",
        "outputId": "f03c1da9-9adb-4f96-bc0b-e5e45d979f5f"
      },
      "outputs": [
        {
          "output_type": "stream",
          "name": "stdout",
          "text": [
            "{1, 2, 3, 4, 5, 6, 7, 8}\n",
            "{3, 4, 5}\n"
          ]
        }
      ],
      "source": [
        "c = a.copy()\n",
        "c |= b\n",
        "print(c)\n",
        "d = a.copy()\n",
        "d &= b\n",
        "print(d)"
      ]
    },
    {
      "cell_type": "code",
      "execution_count": null,
      "metadata": {
        "colab": {
          "base_uri": "https://localhost:8080/"
        },
        "id": "pivV8eAlcotk",
        "outputId": "7f82b9be-2f55-433b-8cfd-6bcec9ce19a1"
      },
      "outputs": [
        {
          "output_type": "execute_result",
          "data": {
            "text/plain": [
              "{(1, 1, 2, 3, 4)}"
            ]
          },
          "metadata": {},
          "execution_count": 154
        }
      ],
      "source": [
        "my_data = [1, 1, 2, 3, 4]\n",
        "my_set = {tuple(my_data)}\n",
        "my_set"
      ]
    },
    {
      "cell_type": "markdown",
      "metadata": {
        "id": "eKbkWZzocotk"
      },
      "source": [
        "_Why is the duplicate not removed?_"
      ]
    },
    {
      "cell_type": "markdown",
      "metadata": {
        "id": "QgWvrFl_cotk"
      },
      "source": [
        "Containment operations"
      ]
    },
    {
      "cell_type": "code",
      "execution_count": null,
      "metadata": {
        "colab": {
          "base_uri": "https://localhost:8080/"
        },
        "id": "HflSzYv1cotl",
        "outputId": "8cfe4c42-2a5a-4015-82dc-74a2c66545bb"
      },
      "outputs": [
        {
          "output_type": "execute_result",
          "data": {
            "text/plain": [
              "True"
            ]
          },
          "metadata": {},
          "execution_count": 155
        }
      ],
      "source": [
        "a_set = {1, 2, 3, 4, 5}\n",
        "{1, 2, 3}.issubset(a_set) # check subset"
      ]
    },
    {
      "cell_type": "code",
      "execution_count": null,
      "metadata": {
        "colab": {
          "base_uri": "https://localhost:8080/"
        },
        "id": "pCFOoRVhcotl",
        "outputId": "95a84713-2f37-43bb-ac29-94151fdd1fbe"
      },
      "outputs": [
        {
          "output_type": "execute_result",
          "data": {
            "text/plain": [
              "True"
            ]
          },
          "metadata": {},
          "execution_count": 156
        }
      ],
      "source": [
        "a_set.issuperset({1, 2, 3}) # check superset"
      ]
    },
    {
      "cell_type": "markdown",
      "metadata": {
        "id": "N-BmbGpJcotl"
      },
      "source": [
        "Summary of the main set functions\n",
        "\n",
        "| Function                           | Alternative syntax | Description                                                                      |\n",
        "| ---------------------------------- | ------------------ | -------------------------------------------------------------------------------- |\n",
        "| `a.add(x)`                         | N/A                | Add element `x` to set `a`                                                       |\n",
        "| `a.clear()`                        | N/A                | Reset set `a` to an empty state, discarding all of its elements                  |\n",
        "| `a.remove(x)`                      | N/A                | Remove element `x` from set `a`                                                  |\n",
        "| `a.pop()`                          | N/A                | Remove an arbitrary element from set `a`, raising `KeyError` if the set is empty |\n",
        "| `a.union(b)`                       | `a \\| b`            | All of the unique elements in `a` and `b`                                        |\n",
        "| `a.update(b)`                      | `a \\|= b`           | Set the contents of `a` to be the union of the elements in `a` and `b`           |\n",
        "| `a.intersection(b)`                | `a & b`            | All of the elements in _both_ `a` and `b`                                        |\n",
        "| `a.intersection_update(b)`         | `a &= b`           | Set the contents of `a` to be the intersection of the elements in `a` and `b`    |\n",
        "| `a.difference(b)`                  | `a - b`            | The elements in `a` that are not in `b`                                          |\n",
        "| `a.difference_update(b)`           | `a -= b`           | Set `a` to the elements in `a` that are not in `b`                               |\n",
        "| `a.symmetric_difference(b)`        | `a ^ b`            | All of the elements in either `a` or `b` but _not both_                          |\n",
        "| `a.symmetric_difference_update(b)` | `a ^= b`           | Set `a` to contain the elements in either `a` or `b` but _not both_              |\n",
        "| `a.issubset(b)`                    | `<=`               | `True` if the elements of `a` are all contained in `b`                           |\n",
        "| `a.issuperset(b)`                  | `>=`               | `True` if the elements of `b` are all contained in `a`                           |\n",
        "| `a.isdisjoint(b)`                  | N/A                | `True` if `a` and `b` have no elements in common                                 |"
      ]
    },
    {
      "cell_type": "markdown",
      "metadata": {
        "id": "B9cl_9cpcotl"
      },
      "source": [
        "Equality checks whether two sets contain the same elements"
      ]
    },
    {
      "cell_type": "code",
      "execution_count": null,
      "metadata": {
        "colab": {
          "base_uri": "https://localhost:8080/"
        },
        "id": "3WrH5jhAcotl",
        "outputId": "69411507-5dfe-42d9-e37f-c0b6d789cf70"
      },
      "outputs": [
        {
          "output_type": "execute_result",
          "data": {
            "text/plain": [
              "True"
            ]
          },
          "metadata": {},
          "execution_count": 157
        }
      ],
      "source": [
        "{1, 2, 3} == {3, 2, 1}"
      ]
    },
    {
      "cell_type": "markdown",
      "metadata": {
        "tags": [],
        "id": "Mo7cJE-rcotl"
      },
      "source": [
        "### Useful functions on collections"
      ]
    },
    {
      "cell_type": "code",
      "execution_count": null,
      "metadata": {
        "colab": {
          "base_uri": "https://localhost:8080/"
        },
        "id": "ByIeFUkncotl",
        "outputId": "7d684425-c6ae-4ca2-b9d6-a80a26323e8c"
      },
      "outputs": [
        {
          "output_type": "execute_result",
          "data": {
            "text/plain": [
              "[' ', 'a', 'c', 'e', 'e', 'h', 'o', 'r', 'r', 's']"
            ]
          },
          "metadata": {},
          "execution_count": 158
        }
      ],
      "source": [
        "sorted([7, 1, 2, 6, 0, 3, 2])\n",
        "sorted(\"horse race\")"
      ]
    },
    {
      "cell_type": "markdown",
      "metadata": {
        "id": "heDkSs4Ocotl"
      },
      "source": [
        "```zip``` creates a list of pairs from a pairs of lists."
      ]
    },
    {
      "cell_type": "code",
      "execution_count": null,
      "metadata": {
        "colab": {
          "base_uri": "https://localhost:8080/"
        },
        "id": "uPWshQ0-cotl",
        "outputId": "8aa9ba94-5fc5-49a8-c97e-5fb46bab3d95"
      },
      "outputs": [
        {
          "output_type": "execute_result",
          "data": {
            "text/plain": [
              "[('foo', 'one'), ('bar', 'two'), ('baz', 'three')]"
            ]
          },
          "metadata": {},
          "execution_count": 159
        }
      ],
      "source": [
        "seq1 = [\"foo\", \"bar\", \"baz\"]\n",
        "seq2 = [\"one\", \"two\", \"three\"]\n",
        "zipped = zip(seq1, seq2)\n",
        "list(zipped)"
      ]
    },
    {
      "cell_type": "code",
      "execution_count": null,
      "metadata": {
        "colab": {
          "base_uri": "https://localhost:8080/"
        },
        "id": "xv-oBA7Gcotl",
        "outputId": "be098c58-b48b-4c4f-9b4c-006f1623efd6"
      },
      "outputs": [
        {
          "output_type": "execute_result",
          "data": {
            "text/plain": [
              "[('foo', 'one', False), ('bar', 'two', True)]"
            ]
          },
          "metadata": {},
          "execution_count": 160
        }
      ],
      "source": [
        "seq3 = [False, True]\n",
        "list(zip(seq1, seq2, seq3))"
      ]
    },
    {
      "cell_type": "markdown",
      "metadata": {
        "id": "ar2Gcgidcotl"
      },
      "source": [
        "```enumerate``` function returns pairs of (position, item) of a collection"
      ]
    },
    {
      "cell_type": "code",
      "execution_count": null,
      "metadata": {
        "colab": {
          "base_uri": "https://localhost:8080/"
        },
        "id": "SM_qsuUdcotl",
        "outputId": "8d736f6c-48c4-4c69-e22d-c320ed1f4e57"
      },
      "outputs": [
        {
          "output_type": "stream",
          "name": "stdout",
          "text": [
            "0: foo, one\n",
            "1: bar, two\n",
            "2: baz, three\n"
          ]
        }
      ],
      "source": [
        "for index, (a, b) in enumerate(zip(seq1, seq2)):\n",
        "    print(f\"{index}: {a}, {b}\")"
      ]
    },
    {
      "cell_type": "code",
      "execution_count": null,
      "metadata": {
        "colab": {
          "base_uri": "https://localhost:8080/"
        },
        "id": "qGvPuWGwcotl",
        "outputId": "4c0f3ab3-200b-4e52-a7ec-9c924bb44eca"
      },
      "outputs": [
        {
          "output_type": "execute_result",
          "data": {
            "text/plain": [
              "[9, 8, 7, 6, 5, 4, 3, 2, 1, 0]"
            ]
          },
          "metadata": {},
          "execution_count": 162
        }
      ],
      "source": [
        "list(reversed(range(10)))"
      ]
    },
    {
      "cell_type": "markdown",
      "metadata": {
        "tags": [],
        "id": "p-MZuUYvcotl"
      },
      "source": [
        "#### Comprehensions\n",
        "\n",
        "Comprehensions create collections from a for-loop in a very compact manner"
      ]
    },
    {
      "cell_type": "code",
      "execution_count": null,
      "metadata": {
        "colab": {
          "base_uri": "https://localhost:8080/"
        },
        "id": "VIWjcy1Ccotl",
        "outputId": "c1bb2352-4c47-467e-b20e-8caa5c995608"
      },
      "outputs": [
        {
          "output_type": "execute_result",
          "data": {
            "text/plain": [
              "['BAT', 'CAR', 'DOVE', 'PYTHON']"
            ]
          },
          "metadata": {},
          "execution_count": 163
        }
      ],
      "source": [
        "strings = [\"a\", \"as\", \"bat\", \"car\", \"dove\", \"python\"]\n",
        "[x.upper() for x in strings if len(x) > 2]"
      ]
    },
    {
      "cell_type": "code",
      "execution_count": null,
      "metadata": {
        "colab": {
          "base_uri": "https://localhost:8080/"
        },
        "id": "MTK_KdNXcotl",
        "outputId": "9f488f04-a7c7-4da2-b658-4ec93a34323c"
      },
      "outputs": [
        {
          "output_type": "execute_result",
          "data": {
            "text/plain": [
              "{1, 2, 3, 4, 6}"
            ]
          },
          "metadata": {},
          "execution_count": 164
        }
      ],
      "source": [
        "unique_lengths = {len(x) for x in strings}\n",
        "unique_lengths"
      ]
    },
    {
      "cell_type": "markdown",
      "metadata": {
        "id": "Hw1MGkN9cotl"
      },
      "source": [
        "```map``` applies a function to a collection"
      ]
    },
    {
      "cell_type": "code",
      "execution_count": null,
      "metadata": {
        "colab": {
          "base_uri": "https://localhost:8080/"
        },
        "id": "qrf-Lw61cotl",
        "outputId": "490a76af-d443-4c17-8955-98434e48c582"
      },
      "outputs": [
        {
          "output_type": "execute_result",
          "data": {
            "text/plain": [
              "{1, 2, 3, 4, 6}"
            ]
          },
          "metadata": {},
          "execution_count": 165
        }
      ],
      "source": [
        "set(map(len, strings)) # Note: len is a name of a function, as functions in python are objects"
      ]
    },
    {
      "cell_type": "code",
      "execution_count": null,
      "metadata": {
        "colab": {
          "base_uri": "https://localhost:8080/"
        },
        "id": "3DTuPIaNcotl",
        "outputId": "14aac174-91b0-4de9-8e33-2535f497624c"
      },
      "outputs": [
        {
          "output_type": "execute_result",
          "data": {
            "text/plain": [
              "{'a': 0, 'as': 1, 'bat': 2, 'car': 3, 'dove': 4, 'python': 5}"
            ]
          },
          "metadata": {},
          "execution_count": 166
        }
      ],
      "source": [
        "loc_mapping = {value: index for index, value in enumerate(strings)}\n",
        "loc_mapping"
      ]
    },
    {
      "cell_type": "markdown",
      "metadata": {
        "id": "zXwrk94Tcotl"
      },
      "source": [
        "Collections can be \"nested\". For instance you can create a list of lists."
      ]
    },
    {
      "cell_type": "code",
      "execution_count": null,
      "metadata": {
        "id": "MSpv_SBvcotl"
      },
      "outputs": [],
      "source": [
        "all_data = [[\"John\", \"Emily\", \"Michael\", \"Mary\", \"Steven\"],\n",
        "            [\"Maria\", \"Juan\", \"Javier\", \"Natalia\", \"Pilar\"]]"
      ]
    },
    {
      "cell_type": "code",
      "execution_count": null,
      "metadata": {
        "colab": {
          "base_uri": "https://localhost:8080/"
        },
        "id": "CsvC2PWHcoto",
        "outputId": "35659dcb-58ce-4380-ef9e-21c5ac9da4d1"
      },
      "outputs": [
        {
          "output_type": "execute_result",
          "data": {
            "text/plain": [
              "['Maria', 'Natalia']"
            ]
          },
          "metadata": {},
          "execution_count": 168
        }
      ],
      "source": [
        "names_of_interest = []\n",
        "for names in all_data:\n",
        "    enough_as = [name for name in names if name.count(\"a\") >= 2]\n",
        "    names_of_interest.extend(enough_as)\n",
        "names_of_interest"
      ]
    },
    {
      "cell_type": "markdown",
      "metadata": {
        "id": "7FXoncqZcoto"
      },
      "source": [
        "Of course, it is possible to provide a list comprehension for a list of lists."
      ]
    },
    {
      "cell_type": "code",
      "execution_count": null,
      "metadata": {
        "colab": {
          "base_uri": "https://localhost:8080/"
        },
        "id": "QGykrOsccoto",
        "outputId": "3d15fdc8-d3f5-4413-8a87-0005b8917377"
      },
      "outputs": [
        {
          "output_type": "execute_result",
          "data": {
            "text/plain": [
              "['Maria', 'Natalia']"
            ]
          },
          "metadata": {},
          "execution_count": 169
        }
      ],
      "source": [
        "result = [name for names in all_data for name in names\n",
        "          if name.count(\"a\") >= 2]\n",
        "result"
      ]
    },
    {
      "cell_type": "code",
      "execution_count": null,
      "metadata": {
        "colab": {
          "base_uri": "https://localhost:8080/"
        },
        "id": "WSOe-fMGcoto",
        "outputId": "c99619a7-2248-4123-eaaa-3d307f7e0260"
      },
      "outputs": [
        {
          "output_type": "execute_result",
          "data": {
            "text/plain": [
              "[1, 2, 3, 4, 5, 6, 7, 8, 9]"
            ]
          },
          "metadata": {},
          "execution_count": 170
        }
      ],
      "source": [
        "some_tuples = [(1, 2, 3), (4, 5, 6), (7, 8, 9)]\n",
        "flattened = [x for tup in some_tuples for x in tup]\n",
        "flattened"
      ]
    },
    {
      "cell_type": "code",
      "execution_count": null,
      "metadata": {
        "id": "gh1foHFJcoto"
      },
      "outputs": [],
      "source": [
        "flattened = []\n",
        "\n",
        "for tup in some_tuples:\n",
        "    for x in tup:\n",
        "        flattened.append(x)"
      ]
    },
    {
      "cell_type": "code",
      "execution_count": null,
      "metadata": {
        "colab": {
          "base_uri": "https://localhost:8080/"
        },
        "id": "f9r8FgN6coto",
        "outputId": "b49dcb71-3c93-40d9-d239-43bcc80c6ad4"
      },
      "outputs": [
        {
          "output_type": "execute_result",
          "data": {
            "text/plain": [
              "[[1, 2, 3], [4, 5, 6], [7, 8, 9]]"
            ]
          },
          "metadata": {},
          "execution_count": 172
        }
      ],
      "source": [
        "[[x for x in tup] for tup in some_tuples]"
      ]
    },
    {
      "cell_type": "markdown",
      "metadata": {
        "tags": [],
        "id": "3EAhuI_7coto"
      },
      "source": [
        "## Functions and Error handling\n",
        "\n",
        "Functions are the building blocks of a programming language. A function is a repeateable set of operations with an assigned name. To declare a function use the syntax\n",
        "\n",
        "```python\n",
        "def function_name(param1, param2, ...):\n",
        "    code_of_the_function\n",
        "    return result_of_the_function\n",
        "```"
      ]
    },
    {
      "cell_type": "code",
      "execution_count": null,
      "metadata": {
        "id": "P_1nM6w6coto"
      },
      "outputs": [],
      "source": [
        "def my_function(x, y):\n",
        "    return x + y"
      ]
    },
    {
      "cell_type": "markdown",
      "metadata": {
        "id": "PZMdG3zhcoto"
      },
      "source": [
        "You can call a function by its name and pass the **right** number of parameters as input."
      ]
    },
    {
      "cell_type": "code",
      "execution_count": null,
      "metadata": {
        "colab": {
          "base_uri": "https://localhost:8080/"
        },
        "id": "oDE-qv19coto",
        "outputId": "0b31762a-aff8-4722-8dc4-7cb33e7403e0"
      },
      "outputs": [
        {
          "output_type": "execute_result",
          "data": {
            "text/plain": [
              "3"
            ]
          },
          "metadata": {},
          "execution_count": 174
        }
      ],
      "source": [
        "my_function(1, 2)\n",
        "result = my_function(1, 2)\n",
        "result"
      ]
    },
    {
      "cell_type": "markdown",
      "metadata": {
        "id": "cZb1pBghcoto"
      },
      "source": [
        "A function may or may not return some value"
      ]
    },
    {
      "cell_type": "code",
      "execution_count": null,
      "metadata": {
        "colab": {
          "base_uri": "https://localhost:8080/"
        },
        "id": "EOYgPF_jcotp",
        "outputId": "f21db00d-2623-4053-c959-d20a5a7848da"
      },
      "outputs": [
        {
          "output_type": "stream",
          "name": "stdout",
          "text": [
            "hello!\n",
            "None\n"
          ]
        }
      ],
      "source": [
        "def function_without_return(x):\n",
        "    print(x)\n",
        "\n",
        "result = function_without_return(\"hello!\")\n",
        "print(result)"
      ]
    },
    {
      "cell_type": "markdown",
      "metadata": {
        "id": "nS4ZQg1xcotp"
      },
      "source": [
        "A function can return multiple values and have *optional* parameters with a default value.\n",
        "\n",
        "```z``` is an optional parameter in the below function."
      ]
    },
    {
      "cell_type": "code",
      "execution_count": null,
      "metadata": {
        "id": "fG1qQStfcotp"
      },
      "outputs": [],
      "source": [
        "def my_function2(x, y, z=1.5):\n",
        "    if z > 1:\n",
        "        return z * (x + y)\n",
        "    else:\n",
        "        return z / (x + y)"
      ]
    },
    {
      "cell_type": "code",
      "execution_count": null,
      "metadata": {
        "colab": {
          "base_uri": "https://localhost:8080/"
        },
        "id": "ByYO2GYocotp",
        "outputId": "f8390b50-65bc-4b48-aafd-18dd203a8c6c"
      },
      "outputs": [
        {
          "output_type": "stream",
          "name": "stdout",
          "text": [
            "0.06363636363636363\n",
            "35.49\n",
            "45.0\n"
          ]
        }
      ],
      "source": [
        "print(my_function2(5, 6, z=0.7))\n",
        "print(my_function2(3.14, 7, 3.5))\n",
        "print(my_function2(10, 20))"
      ]
    },
    {
      "cell_type": "markdown",
      "metadata": {
        "id": "Qn4eg1Oxcotp"
      },
      "source": [
        "#### Global variables\n",
        "\n",
        "A function can modify the value of a variable defined outside of the body of the function.\n",
        "In general, this practice is not recommended as it might generate errors, but it is useful in cases like program settings or variables that are shared among functions."
      ]
    },
    {
      "cell_type": "code",
      "execution_count": null,
      "metadata": {
        "id": "3cBHXVijcotp"
      },
      "outputs": [],
      "source": [
        "a = []\n",
        "def func():\n",
        "    for i in range(5):\n",
        "        a.append(i)"
      ]
    },
    {
      "cell_type": "code",
      "execution_count": null,
      "metadata": {
        "colab": {
          "base_uri": "https://localhost:8080/"
        },
        "id": "Jg3DVjvpcotp",
        "outputId": "7c0c0d5a-3354-4882-f1ef-96daf9b742e6"
      },
      "outputs": [
        {
          "output_type": "stream",
          "name": "stdout",
          "text": [
            "[0, 1, 2, 3, 4]\n",
            "[0, 1, 2, 3, 4, 0, 1, 2, 3, 4]\n"
          ]
        }
      ],
      "source": [
        "func()\n",
        "print(a)\n",
        "func()\n",
        "print(a)"
      ]
    },
    {
      "cell_type": "markdown",
      "metadata": {
        "id": "mnS0tpRRcotp"
      },
      "source": [
        "A more explicit manner to access variables outside of the function and avoid mistakes is to use the keyword ```global```"
      ]
    },
    {
      "cell_type": "code",
      "execution_count": null,
      "metadata": {
        "colab": {
          "base_uri": "https://localhost:8080/"
        },
        "id": "vj5qMZ76cotp",
        "outputId": "e51aa50c-4f54-4b31-e46c-edcb331642d2"
      },
      "outputs": [
        {
          "output_type": "stream",
          "name": "stdout",
          "text": [
            "[]\n"
          ]
        }
      ],
      "source": [
        "a = None\n",
        "def bind_a_variable():\n",
        "    global a\n",
        "    a = []\n",
        "bind_a_variable()\n",
        "print(a)"
      ]
    },
    {
      "cell_type": "code",
      "execution_count": null,
      "metadata": {
        "id": "KNLpmYzpcotp"
      },
      "outputs": [],
      "source": [
        "states = [\"   Alabama \", \"Georgia!\", \"Georgia\", \"georgia\", \"FlOrIda\",\n",
        "          \"south   carolina##\", \"West virginia?\"]"
      ]
    },
    {
      "cell_type": "code",
      "execution_count": null,
      "metadata": {
        "id": "iqJG0gXfcotp"
      },
      "outputs": [],
      "source": [
        "import re\n",
        "\n",
        "def clean_strings(strings):\n",
        "    result = []\n",
        "    for value in strings:\n",
        "        value = value.strip()\n",
        "        value = re.sub(\"[!#?]\", \"\", value)\n",
        "        value = value.title()\n",
        "        result.append(value)\n",
        "    return result"
      ]
    },
    {
      "cell_type": "code",
      "execution_count": null,
      "metadata": {
        "colab": {
          "base_uri": "https://localhost:8080/"
        },
        "id": "gNAFKQsQcotp",
        "outputId": "c4e77487-0ec7-4db3-c0f7-7fdee6d86e24"
      },
      "outputs": [
        {
          "output_type": "execute_result",
          "data": {
            "text/plain": [
              "['Alabama',\n",
              " 'Georgia',\n",
              " 'Georgia',\n",
              " 'Georgia',\n",
              " 'Florida',\n",
              " 'South   Carolina',\n",
              " 'West Virginia']"
            ]
          },
          "metadata": {},
          "execution_count": 183
        }
      ],
      "source": [
        "clean_strings(states)"
      ]
    },
    {
      "cell_type": "markdown",
      "metadata": {
        "id": "dpUzkq59cotp"
      },
      "source": [
        "Since functions are objects, they can become parameters of other functions."
      ]
    },
    {
      "cell_type": "code",
      "execution_count": null,
      "metadata": {
        "id": "jaLfbDbccotp"
      },
      "outputs": [],
      "source": [
        "def remove_punctuation(value):\n",
        "    return re.sub(\"[!#?]\", \"\", value)\n",
        "\n",
        "clean_ops = [str.strip, remove_punctuation, str.title]\n",
        "\n",
        "def clean_strings(strings, ops):\n",
        "    result = []\n",
        "    for value in strings:\n",
        "        for func in ops:\n",
        "            value = func(value) # In this case ops is a list of generic functions that are applied to a list of strings, a convenient trick ;-)\n",
        "        result.append(value)\n",
        "    return result"
      ]
    },
    {
      "cell_type": "code",
      "execution_count": null,
      "metadata": {
        "colab": {
          "base_uri": "https://localhost:8080/"
        },
        "id": "5wmvGpjKcotp",
        "outputId": "cf22ee47-b0cf-47b6-a2cf-e5770b3cc3e1"
      },
      "outputs": [
        {
          "output_type": "execute_result",
          "data": {
            "text/plain": [
              "['Alabama',\n",
              " 'Georgia',\n",
              " 'Georgia',\n",
              " 'Georgia',\n",
              " 'Florida',\n",
              " 'South   Carolina',\n",
              " 'West Virginia']"
            ]
          },
          "metadata": {},
          "execution_count": 185
        }
      ],
      "source": [
        "clean_strings(states, clean_ops)"
      ]
    },
    {
      "cell_type": "markdown",
      "metadata": {
        "id": "Kh7EdHAzcotp"
      },
      "source": [
        "Similarly the ```map``` function can apply a function to each item in a list"
      ]
    },
    {
      "cell_type": "code",
      "execution_count": null,
      "metadata": {
        "colab": {
          "base_uri": "https://localhost:8080/"
        },
        "id": "7VpT4Dxccotq",
        "outputId": "8063fa87-18d1-4ad6-ee40-25448f614d5a"
      },
      "outputs": [
        {
          "output_type": "stream",
          "name": "stdout",
          "text": [
            "   Alabama \n",
            "Georgia\n",
            "Georgia\n",
            "georgia\n",
            "FlOrIda\n",
            "south   carolina\n",
            "West virginia\n"
          ]
        }
      ],
      "source": [
        "for x in map(remove_punctuation, states):\n",
        "    print(x)"
      ]
    },
    {
      "cell_type": "markdown",
      "metadata": {
        "id": "MEotH9pHcotq"
      },
      "source": [
        "#### Lambda functions\n",
        "\n",
        "Lambda functions are anonymous functions. They are suitable in all cases in which we do not need to specify the function name. The syntax is\n",
        "\n",
        "```python\n",
        "lambda param1, param2, .. : function_code\n",
        "```"
      ]
    },
    {
      "cell_type": "code",
      "execution_count": null,
      "metadata": {
        "id": "jpaJOWlLcotq"
      },
      "outputs": [],
      "source": [
        "def short_function(x):\n",
        "    return x * 2\n",
        "\n",
        "equiv_anon = lambda x: x * 2"
      ]
    },
    {
      "cell_type": "code",
      "execution_count": null,
      "metadata": {
        "colab": {
          "base_uri": "https://localhost:8080/"
        },
        "id": "k0z8djdGcotq",
        "outputId": "5c27eb74-b797-47fc-c746-2dffeabe3423"
      },
      "outputs": [
        {
          "output_type": "execute_result",
          "data": {
            "text/plain": [
              "[8, 0, 2, 10, 12]"
            ]
          },
          "metadata": {},
          "execution_count": 188
        }
      ],
      "source": [
        "def apply_to_list(some_list, f):\n",
        "    return [f(x) for x in some_list]\n",
        "\n",
        "ints = [4, 0, 1, 5, 6]\n",
        "apply_to_list(ints, lambda x: x * 2)"
      ]
    },
    {
      "cell_type": "code",
      "execution_count": null,
      "metadata": {
        "id": "MOA_jgBZcotq"
      },
      "outputs": [],
      "source": [
        "strings = [\"foo\", \"card\", \"bar\", \"aaaa\", \"abab\"]"
      ]
    },
    {
      "cell_type": "code",
      "execution_count": null,
      "metadata": {
        "colab": {
          "base_uri": "https://localhost:8080/"
        },
        "id": "DZYnh95Kcotq",
        "outputId": "20bb0270-abe9-4fbd-d8b4-84191e71ec88"
      },
      "outputs": [
        {
          "output_type": "execute_result",
          "data": {
            "text/plain": [
              "['aaaa', 'foo', 'abab', 'bar', 'card']"
            ]
          },
          "metadata": {},
          "execution_count": 190
        }
      ],
      "source": [
        "\n",
        "strings.sort(key=lambda x: len(set(x)))\n",
        "strings"
      ]
    },
    {
      "cell_type": "markdown",
      "metadata": {
        "id": "rr92kGgCcotq"
      },
      "source": [
        "#### Iterators\n",
        "Iterators are other special functions that compute the result **on collections** once at the time. An iterator, does not return a value immediately, but only if called in a for-loop."
      ]
    },
    {
      "cell_type": "code",
      "execution_count": null,
      "metadata": {
        "colab": {
          "base_uri": "https://localhost:8080/"
        },
        "id": "IbpLfaCVcotq",
        "outputId": "f906076f-5b0a-4b05-c5a1-d1d00111b40d"
      },
      "outputs": [
        {
          "output_type": "stream",
          "name": "stdout",
          "text": [
            "a\n",
            "b\n",
            "c\n"
          ]
        }
      ],
      "source": [
        "some_dict = {\"a\": 1, \"b\": 2, \"c\": 3}\n",
        "for key in some_dict:\n",
        "    print(key)"
      ]
    },
    {
      "cell_type": "markdown",
      "metadata": {
        "id": "k7FGmF6dcotq"
      },
      "source": [
        "If you print the value of an iterator you will not see the content."
      ]
    },
    {
      "cell_type": "code",
      "execution_count": null,
      "metadata": {
        "colab": {
          "base_uri": "https://localhost:8080/"
        },
        "id": "0UbMOR-lcotq",
        "outputId": "203b6c87-2608-43bd-eead-ec42c224d932"
      },
      "outputs": [
        {
          "output_type": "execute_result",
          "data": {
            "text/plain": [
              "<dict_keyiterator at 0x7df3d4202c50>"
            ]
          },
          "metadata": {},
          "execution_count": 192
        }
      ],
      "source": [
        "dict_iterator = iter(some_dict)\n",
        "dict_iterator"
      ]
    },
    {
      "cell_type": "markdown",
      "metadata": {
        "id": "3KVFKaOAcotq"
      },
      "source": [
        "unless you save the iterator in a collection"
      ]
    },
    {
      "cell_type": "code",
      "execution_count": null,
      "metadata": {
        "colab": {
          "base_uri": "https://localhost:8080/"
        },
        "id": "nILimTpecotq",
        "outputId": "f0749654-70b5-44f0-d259-f972c651f6ed"
      },
      "outputs": [
        {
          "output_type": "execute_result",
          "data": {
            "text/plain": [
              "['a', 'b', 'c']"
            ]
          },
          "metadata": {},
          "execution_count": 193
        }
      ],
      "source": [
        "list(dict_iterator)"
      ]
    },
    {
      "cell_type": "code",
      "execution_count": null,
      "metadata": {
        "id": "NEG6hRstcotq"
      },
      "outputs": [],
      "source": [
        "def squares(n=10):\n",
        "    print(f\"Generating squares from 1 to {n ** 2}\")\n",
        "    for i in range(1, n + 1):\n",
        "        yield i ** 2"
      ]
    },
    {
      "cell_type": "code",
      "execution_count": null,
      "metadata": {
        "colab": {
          "base_uri": "https://localhost:8080/"
        },
        "id": "nXwBxvrNcotq",
        "outputId": "2b96680a-f459-462d-d1b2-9d6a02734784"
      },
      "outputs": [
        {
          "output_type": "execute_result",
          "data": {
            "text/plain": [
              "<generator object squares at 0x7df3d43a2730>"
            ]
          },
          "metadata": {},
          "execution_count": 195
        }
      ],
      "source": [
        "gen = squares()\n",
        "gen"
      ]
    },
    {
      "cell_type": "code",
      "execution_count": null,
      "metadata": {
        "colab": {
          "base_uri": "https://localhost:8080/"
        },
        "id": "utGtSTbncotq",
        "outputId": "f568266b-4fe8-4102-ef29-6f724da235ae"
      },
      "outputs": [
        {
          "output_type": "stream",
          "name": "stdout",
          "text": [
            "Generating squares from 1 to 100\n",
            "1 4 9 16 25 36 49 64 81 100 "
          ]
        }
      ],
      "source": [
        "for x in gen:\n",
        "    print(x, end=\" \")"
      ]
    },
    {
      "cell_type": "code",
      "execution_count": null,
      "metadata": {
        "colab": {
          "base_uri": "https://localhost:8080/"
        },
        "id": "yNkR1ojRcotq",
        "outputId": "34a3f5a5-bcab-4bb8-a0cb-51998623b511"
      },
      "outputs": [
        {
          "output_type": "execute_result",
          "data": {
            "text/plain": [
              "<generator object <genexpr> at 0x7df3d43a2650>"
            ]
          },
          "metadata": {},
          "execution_count": 197
        }
      ],
      "source": [
        "gen = (x ** 2 for x in range(100))\n",
        "gen"
      ]
    },
    {
      "cell_type": "code",
      "execution_count": null,
      "metadata": {
        "colab": {
          "base_uri": "https://localhost:8080/"
        },
        "id": "DD-zGrTjcotq",
        "outputId": "3eda02ab-2a66-440c-aae2-9664c2f23e0c"
      },
      "outputs": [
        {
          "output_type": "execute_result",
          "data": {
            "text/plain": [
              "328350"
            ]
          },
          "metadata": {},
          "execution_count": 198
        }
      ],
      "source": [
        "sum(gen) # It is possible to call functions on operators and retrieve the result"
      ]
    },
    {
      "cell_type": "code",
      "execution_count": null,
      "metadata": {
        "colab": {
          "base_uri": "https://localhost:8080/"
        },
        "id": "GP5KsdT4cotq",
        "outputId": "470adf05-d3a9-49ca-cae9-3722715b90f5"
      },
      "outputs": [
        {
          "output_type": "execute_result",
          "data": {
            "text/plain": [
              "{0: 0, 1: 1, 2: 4, 3: 9, 4: 16}"
            ]
          },
          "metadata": {},
          "execution_count": 199
        }
      ],
      "source": [
        "dict((i, i ** 2) for i in range(5))"
      ]
    },
    {
      "cell_type": "markdown",
      "metadata": {
        "id": "NUkdzn7Wcotq"
      },
      "source": [
        "Itertools is a module that contains a number of iterators."
      ]
    },
    {
      "cell_type": "code",
      "execution_count": null,
      "metadata": {
        "colab": {
          "base_uri": "https://localhost:8080/"
        },
        "id": "71xYTC3Tcotq",
        "outputId": "e6abe5a6-b061-4107-ba47-c8750b2151b7"
      },
      "outputs": [
        {
          "output_type": "stream",
          "name": "stdout",
          "text": [
            "A ['Alan', 'Adam']\n",
            "W ['Wes', 'Will']\n",
            "A ['Albert']\n",
            "S ['Steven']\n"
          ]
        }
      ],
      "source": [
        "import itertools\n",
        "def first_letter(x):\n",
        "    return x[0]\n",
        "\n",
        "names = [\"Alan\", \"Adam\", \"Wes\", \"Will\", \"Albert\", \"Steven\"]\n",
        "\n",
        "for letter, names in itertools.groupby(names, first_letter):\n",
        "    print(letter, list(names)) # names is a generator"
      ]
    },
    {
      "cell_type": "markdown",
      "metadata": {
        "tags": [],
        "id": "ebFB3_QJcotq"
      },
      "source": [
        "### Error handling\n",
        "\n",
        "Sometimes a call to a function or operator raises an error"
      ]
    },
    {
      "cell_type": "code",
      "execution_count": null,
      "metadata": {
        "colab": {
          "base_uri": "https://localhost:8080/",
          "height": 159
        },
        "id": "7fO3CZLfcotq",
        "outputId": "ebf14e5b-0efa-443c-af17-8f2d66d303cf"
      },
      "outputs": [
        {
          "output_type": "error",
          "ename": "ValueError",
          "evalue": "could not convert string to float: 'something'",
          "traceback": [
            "\u001b[0;31m---------------------------------------------------------------------------\u001b[0m",
            "\u001b[0;31mValueError\u001b[0m                                Traceback (most recent call last)",
            "\u001b[0;32m<ipython-input-201-b152ab25fc57>\u001b[0m in \u001b[0;36m<cell line: 2>\u001b[0;34m()\u001b[0m\n\u001b[1;32m      1\u001b[0m \u001b[0mfloat\u001b[0m\u001b[0;34m(\u001b[0m\u001b[0;34m\"1.2345\"\u001b[0m\u001b[0;34m)\u001b[0m\u001b[0;34m\u001b[0m\u001b[0;34m\u001b[0m\u001b[0m\n\u001b[0;32m----> 2\u001b[0;31m \u001b[0mfloat\u001b[0m\u001b[0;34m(\u001b[0m\u001b[0;34m\"something\"\u001b[0m\u001b[0;34m)\u001b[0m\u001b[0;34m\u001b[0m\u001b[0;34m\u001b[0m\u001b[0m\n\u001b[0m",
            "\u001b[0;31mValueError\u001b[0m: could not convert string to float: 'something'"
          ]
        }
      ],
      "source": [
        "float(\"1.2345\")\n",
        "float(\"something\")"
      ]
    },
    {
      "cell_type": "markdown",
      "metadata": {
        "id": "kfMhA52-cotq"
      },
      "source": [
        "To handle an error, we can use the syntax\n",
        "\n",
        "```python\n",
        "try:\n",
        "    code_with_potential_error\n",
        "except error_name_or_empty:\n",
        "    code_if_error_occurs\n",
        "```"
      ]
    },
    {
      "cell_type": "code",
      "execution_count": null,
      "metadata": {
        "id": "e5O6eV5Fcotq"
      },
      "outputs": [],
      "source": [
        "\n",
        "def attempt_float(x):\n",
        "    try:\n",
        "        return float(x)\n",
        "    except:\n",
        "        return x"
      ]
    },
    {
      "cell_type": "code",
      "execution_count": null,
      "metadata": {
        "colab": {
          "base_uri": "https://localhost:8080/",
          "height": 35
        },
        "id": "k5KZRkp2cotr",
        "outputId": "d3a6b7a8-c105-454d-eec6-8c1ebffceda5"
      },
      "outputs": [
        {
          "output_type": "execute_result",
          "data": {
            "text/plain": [
              "'something'"
            ],
            "application/vnd.google.colaboratory.intrinsic+json": {
              "type": "string"
            }
          },
          "metadata": {},
          "execution_count": 203
        }
      ],
      "source": [
        "\n",
        "attempt_float(\"1.2345\")\n",
        "attempt_float(\"something\")"
      ]
    },
    {
      "cell_type": "code",
      "execution_count": null,
      "metadata": {
        "colab": {
          "base_uri": "https://localhost:8080/",
          "height": 141
        },
        "id": "kof1ZMdNcotr",
        "outputId": "9c076122-faef-4e86-ff09-c0f4c853869e"
      },
      "outputs": [
        {
          "output_type": "error",
          "ename": "TypeError",
          "evalue": "float() argument must be a string or a real number, not 'tuple'",
          "traceback": [
            "\u001b[0;31m---------------------------------------------------------------------------\u001b[0m",
            "\u001b[0;31mTypeError\u001b[0m                                 Traceback (most recent call last)",
            "\u001b[0;32m<ipython-input-204-82f777b0e564>\u001b[0m in \u001b[0;36m<cell line: 1>\u001b[0;34m()\u001b[0m\n\u001b[0;32m----> 1\u001b[0;31m \u001b[0mfloat\u001b[0m\u001b[0;34m(\u001b[0m\u001b[0;34m(\u001b[0m\u001b[0;36m1\u001b[0m\u001b[0;34m,\u001b[0m \u001b[0;36m2\u001b[0m\u001b[0;34m)\u001b[0m\u001b[0;34m)\u001b[0m\u001b[0;34m\u001b[0m\u001b[0;34m\u001b[0m\u001b[0m\n\u001b[0m",
            "\u001b[0;31mTypeError\u001b[0m: float() argument must be a string or a real number, not 'tuple'"
          ]
        }
      ],
      "source": [
        "float((1, 2))"
      ]
    },
    {
      "cell_type": "code",
      "execution_count": null,
      "metadata": {
        "id": "B-LyyLRHcotr"
      },
      "outputs": [],
      "source": [
        "def attempt_float(x):\n",
        "    try:\n",
        "        return float(x)\n",
        "    except ValueError:\n",
        "        return x"
      ]
    },
    {
      "cell_type": "code",
      "execution_count": null,
      "metadata": {
        "id": "gH_OAdDncotr"
      },
      "outputs": [],
      "source": [
        "attempt_float((1, 2))"
      ]
    },
    {
      "cell_type": "code",
      "execution_count": null,
      "metadata": {
        "id": "YJUJcAgscotr"
      },
      "outputs": [],
      "source": [
        "def attempt_float(x):\n",
        "    try:\n",
        "        return float(x)\n",
        "    except (TypeError, ValueError):\n",
        "        return x"
      ]
    },
    {
      "cell_type": "markdown",
      "metadata": {
        "id": "TqZt5747cotr"
      },
      "source": [
        "By using the keyword ```raise error_name``` we can include errors in our code."
      ]
    },
    {
      "cell_type": "code",
      "execution_count": null,
      "metadata": {
        "colab": {
          "base_uri": "https://localhost:8080/",
          "height": 297
        },
        "id": "rJG70FeYcotr",
        "outputId": "f534620d-286b-49ca-eebb-a15d3a752c84"
      },
      "outputs": [
        {
          "output_type": "error",
          "ename": "ValueError",
          "evalue": "The amount cannot be negative",
          "traceback": [
            "\u001b[0;31m---------------------------------------------------------------------------\u001b[0m",
            "\u001b[0;31mValueError\u001b[0m                                Traceback (most recent call last)",
            "\u001b[0;32m<ipython-input-206-01b5285ff0b0>\u001b[0m in \u001b[0;36m<cell line: 7>\u001b[0;34m()\u001b[0m\n\u001b[1;32m      5\u001b[0m         \u001b[0mprint\u001b[0m\u001b[0;34m(\u001b[0m\u001b[0;34mf\"We received a receipt of {amount}DKK\"\u001b[0m\u001b[0;34m)\u001b[0m\u001b[0;34m\u001b[0m\u001b[0;34m\u001b[0m\u001b[0m\n\u001b[1;32m      6\u001b[0m \u001b[0;34m\u001b[0m\u001b[0m\n\u001b[0;32m----> 7\u001b[0;31m \u001b[0mcheck_receipt\u001b[0m\u001b[0;34m(\u001b[0m\u001b[0;34m-\u001b[0m\u001b[0;36m5\u001b[0m\u001b[0;34m)\u001b[0m\u001b[0;34m\u001b[0m\u001b[0;34m\u001b[0m\u001b[0m\n\u001b[0m",
            "\u001b[0;32m<ipython-input-206-01b5285ff0b0>\u001b[0m in \u001b[0;36mcheck_receipt\u001b[0;34m(amount)\u001b[0m\n\u001b[1;32m      1\u001b[0m \u001b[0;32mdef\u001b[0m \u001b[0mcheck_receipt\u001b[0m\u001b[0;34m(\u001b[0m\u001b[0mamount\u001b[0m\u001b[0;34m)\u001b[0m\u001b[0;34m:\u001b[0m\u001b[0;34m\u001b[0m\u001b[0;34m\u001b[0m\u001b[0m\n\u001b[1;32m      2\u001b[0m     \u001b[0;32mif\u001b[0m \u001b[0mamount\u001b[0m \u001b[0;34m<\u001b[0m \u001b[0;36m0\u001b[0m\u001b[0;34m:\u001b[0m\u001b[0;34m\u001b[0m\u001b[0;34m\u001b[0m\u001b[0m\n\u001b[0;32m----> 3\u001b[0;31m         \u001b[0;32mraise\u001b[0m \u001b[0mValueError\u001b[0m\u001b[0;34m(\u001b[0m\u001b[0;34m'The amount cannot be negative'\u001b[0m\u001b[0;34m)\u001b[0m\u001b[0;34m\u001b[0m\u001b[0;34m\u001b[0m\u001b[0m\n\u001b[0m\u001b[1;32m      4\u001b[0m     \u001b[0;32melse\u001b[0m\u001b[0;34m:\u001b[0m\u001b[0;34m\u001b[0m\u001b[0;34m\u001b[0m\u001b[0m\n\u001b[1;32m      5\u001b[0m         \u001b[0mprint\u001b[0m\u001b[0;34m(\u001b[0m\u001b[0;34mf\"We received a receipt of {amount}DKK\"\u001b[0m\u001b[0;34m)\u001b[0m\u001b[0;34m\u001b[0m\u001b[0;34m\u001b[0m\u001b[0m\n",
            "\u001b[0;31mValueError\u001b[0m: The amount cannot be negative"
          ]
        }
      ],
      "source": [
        "def check_receipt(amount):\n",
        "    if amount < 0:\n",
        "        raise ValueError('The amount cannot be negative')\n",
        "    else:\n",
        "        print(f\"We received a receipt of {amount}DKK\")\n",
        "\n",
        "check_receipt(-5)"
      ]
    },
    {
      "cell_type": "code",
      "execution_count": null,
      "metadata": {
        "colab": {
          "base_uri": "https://localhost:8080/"
        },
        "id": "RdixC5incotr",
        "outputId": "0af6170f-abd7-4d0a-c412-a94e104c79f8"
      },
      "outputs": [
        {
          "output_type": "stream",
          "name": "stdout",
          "text": [
            "We received a receipt of 6DKK\n"
          ]
        }
      ],
      "source": [
        "check_receipt(6)"
      ]
    },
    {
      "cell_type": "code",
      "execution_count": null,
      "metadata": {
        "id": "A7h0HpZ0cotr"
      },
      "outputs": [],
      "source": []
    }
  ],
  "metadata": {
    "kernelspec": {
      "display_name": "Python 3 (ipykernel)",
      "language": "python",
      "name": "python3"
    },
    "language_info": {
      "codemirror_mode": {
        "name": "ipython",
        "version": 3
      },
      "file_extension": ".py",
      "mimetype": "text/x-python",
      "name": "python",
      "nbconvert_exporter": "python",
      "pygments_lexer": "ipython3",
      "version": "3.10.12"
    },
    "colab": {
      "provenance": [],
      "include_colab_link": true
    }
  },
  "nbformat": 4,
  "nbformat_minor": 0
}